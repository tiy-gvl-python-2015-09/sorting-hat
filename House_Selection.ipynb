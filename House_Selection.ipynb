{
 "cells": [
  {
   "cell_type": "code",
   "execution_count": 50,
   "metadata": {
    "collapsed": false
   },
   "outputs": [],
   "source": [
    "import pandas as pd\n",
    "import numpy as np\n",
    "import matplotlib.pyplot as plt\n",
    "from sklearn.naive_bayes import GaussianNB\n",
    "from sklearn.naive_bayes import BernoulliNB\n",
    "from sklearn.naive_bayes import MultinomialNB\n",
    "from sklearn.linear_model import SGDClassifier\n",
    "from sklearn import linear_model\n",
    "from sklearn import svm\n",
    "from sklearn.kernel_approximation import RBFSampler\n",
    "pd.options.display.max_rows = 999\n",
    "gnb = GaussianNB()\n",
    "bnb = BernoulliNB()\n",
    "mnb = MultinomialNB()\n",
    "%matplotlib inline"
   ]
  },
  {
   "cell_type": "code",
   "execution_count": 51,
   "metadata": {
    "collapsed": false
   },
   "outputs": [],
   "source": [
    "house_data = pd.read_csv(\"data/20151014211444871494_dataset.csv\", names=(\"Name\", \"MB\", \"Year\", \"House\", \"GPA\"),index_col=False)\n",
    "house_data_test = pd.read_csv(\"data/20151014211444871494_dataset.csv\", names=(\"Name\", \"MB\", \"Year\", \"House\", \"GPA\"),index_col=False)\n",
    "house_data_org = pd.read_csv(\"data/20151014211444871494_dataset.csv\", names=(\"Name\", \"MB\", \"Year\", \"House\", \"GPA\"),index_col=False)"
   ]
  },
  {
   "cell_type": "markdown",
   "metadata": {
    "collapsed": false
   },
   "source": [
    "house_datad = pd.get_dummies(house_data, columns=[\"MB\", \"House\"])"
   ]
  },
  {
   "cell_type": "markdown",
   "metadata": {
    "collapsed": false
   },
   "source": [
    "inputs = house_datad[['MB_ENFJ', 'MB_ENFP', 'MB_ENTJ', \n",
    "                       'MB_ENTP', 'MB_ESFJ', 'MB_ESFP', 'MB_ESTJ', \n",
    "                       'MB_ESTP', 'MB_INFJ', 'MB_INFP', 'MB_INTJ', \n",
    "                       'MB_INTP', 'MB_ISFJ', 'MB_ISFP', 'MB_ISTJ', \n",
    "                       'MB_ISTP', 'House_Gryffindor', 'House_Hufflepuff', \n",
    "                       'House_Ravenclaw', 'House_Slytherin']]\n",
    "#gpa = house_datad.GPAY\n",
    "gpa = np.asarray(house_datad['GPA'], dtype=\"|S6\")\n",
    "gnb.fit(inputs, gpa)"
   ]
  },
  {
   "cell_type": "markdown",
   "metadata": {
    "collapsed": true
   },
   "source": [
    "gnb.predict([0,0,0,1,0,0,0,0,0,0,0,0,0,0,0,0,0,0,0,1])"
   ]
  },
  {
   "cell_type": "code",
   "execution_count": 52,
   "metadata": {
    "collapsed": false
   },
   "outputs": [],
   "source": [
    "house_dict = {'Gryffindor': 2, 'Hufflepuff': 4, 'Ravenclaw': 1, 'Slytherin': 3}\n",
    "mb_dict = {'ENFJ': 1, 'ENFP': 2, 'ENTJ': 3, 'ENTP': 4, 'ESFJ': 5, 'ESFP': 6, 'ESTJ': 7, 'ESTP': 8, 'INFJ': 9, 'INFP': 10, 'INTJ': 11, 'INTP': 12, 'ISFJ': 13, 'ISFP': 14, 'ISTJ': 15, 'ISTP': 16}\n",
    "rev_house_dict = {val: key for key, val in house_dict.items()}\n",
    "rev_mb_dict = {val: key for key, val in mb_dict.items()}"
   ]
  },
  {
   "cell_type": "code",
   "execution_count": 53,
   "metadata": {
    "collapsed": false
   },
   "outputs": [],
   "source": [
    "house_data_test.MB = house_data_test.MB.map(mb_dict)\n",
    "house_data.House = house_data.House.map(house_dict)\n",
    "house_data.MB = house_data.MB.map(mb_dict)"
   ]
  },
  {
   "cell_type": "code",
   "execution_count": 54,
   "metadata": {
    "collapsed": true
   },
   "outputs": [],
   "source": [
    "def truncate(floats):\n",
    "    return float(\"{0:.2f}\".format(floats))"
   ]
  },
  {
   "cell_type": "code",
   "execution_count": 55,
   "metadata": {
    "collapsed": false
   },
   "outputs": [],
   "source": [
    "house_data.GPA = house_data.GPA.map(truncate)\n",
    "house_data_test.GPA = house_data.GPA.map(truncate)\n",
    "house_data_org.GPA = house_data.GPA.map(truncate)"
   ]
  },
  {
   "cell_type": "code",
   "execution_count": 61,
   "metadata": {
    "collapsed": false
   },
   "outputs": [],
   "source": [
    "Ravenclaw = house_data_test[house_data_test.House == \"Ravenclaw\"]\n",
    "Gryffindor = house_data_test[house_data_test.House == \"Gryffindor\"]\n",
    "Hufflepuff = house_data_test[house_data_test.House == \"Hufflepuff\"]\n",
    "Slytherin = house_data_test[house_data_test.House == \"Slytherin\"]"
   ]
  },
  {
   "cell_type": "markdown",
   "metadata": {
    "collapsed": true
   },
   "source": [
    "gpa_by_mb = []\n",
    "for house in [Ravenclaw, Gryffindor, Hufflepuff, Slytherin]\n",
    "    for personality type in mb_dict:\n",
    "        gpa_by_mb.append(house[personality])\n",
    "    gpa"
   ]
  },
  {
   "cell_type": "code",
   "execution_count": 62,
   "metadata": {
    "collapsed": false
   },
   "outputs": [
    {
     "data": {
      "text/plain": [
       "<matplotlib.collections.PathCollection at 0x11750d8d0>"
      ]
     },
     "execution_count": 62,
     "metadata": {},
     "output_type": "execute_result"
    },
    {
     "name": "stderr",
     "output_type": "stream",
     "text": [
      "/Users/MatthewBarnette/iron_yard_hw/sorting-hat/.direnv/python-3.5.0/lib/python3.5/site-packages/matplotlib/collections.py:590: FutureWarning: elementwise comparison failed; returning scalar instead, but in the future will perform elementwise comparison\n",
      "  if self._edgecolors == str('face'):\n"
     ]
    },
    {
     "data": {
      "image/png": "[encoded data removed]",
      "text/plain": [
       "<matplotlib.figure.Figure at 0x11744b278>"
      ]
     },
     "metadata": {},
     "output_type": "display_data"
    }
   ],
   "source": [
    "plt.scatter(house_data.MB, house_data.GPA)"
   ]
  },
  {
   "cell_type": "code",
   "execution_count": 63,
   "metadata": {
    "collapsed": false
   },
   "outputs": [
    {
     "data": {
      "text/plain": [
       "<matplotlib.collections.PathCollection at 0x11744f1d0>"
      ]
     },
     "execution_count": 63,
     "metadata": {},
     "output_type": "execute_result"
    },
    {
     "name": "stderr",
     "output_type": "stream",
     "text": [
      "/Users/MatthewBarnette/iron_yard_hw/sorting-hat/.direnv/python-3.5.0/lib/python3.5/site-packages/matplotlib/collections.py:590: FutureWarning: elementwise comparison failed; returning scalar instead, but in the future will perform elementwise comparison\n",
      "  if self._edgecolors == str('face'):\n"
     ]
    },
    {
     "data": {
      "image/png": "[encoded data removed]",
      "text/plain": [
       "<matplotlib.figure.Figure at 0x1159940b8>"
      ]
     },
     "metadata": {},
     "output_type": "display_data"
    }
   ],
   "source": [
    "plt.scatter(Slytherin.MB, Slytherin.GPA, color = \"Green\")\n",
    "plt.scatter(Hufflepuff.MB, Hufflepuff.GPA, color = \"Gold\")\n",
    "plt.scatter(Gryffindor.MB, Gryffindor.GPA, color = \"Red\")\n",
    "plt.scatter(Ravenclaw.MB, Ravenclaw.GPA, color = \"Blue\")"
   ]
  },
  {
   "cell_type": "markdown",
   "metadata": {},
   "source": [
    "print(house_dict)\n",
    "print(mb_dict)"
   ]
  },
  {
   "cell_type": "code",
   "execution_count": null,
   "metadata": {
    "collapsed": false
   },
   "outputs": [],
   "source": [
    "pivot_house = pd.pivot_table(house_data_org, index=[\"MB\", \"House\"], values=[\"GPA\"])"
   ]
  },
  {
   "cell_type": "code",
   "execution_count": 100,
   "metadata": {
    "collapsed": false
   },
   "outputs": [
    {
     "data": {
      "text/html": [
       "<div>\n",
       "<table border=\"1\" class=\"dataframe\">\n",
       "  <thead>\n",
       "    <tr style=\"text-align: right;\">\n",
       "      <th></th>\n",
       "      <th></th>\n",
       "      <th>GPA</th>\n",
       "    </tr>\n",
       "    <tr>\n",
       "      <th>MB</th>\n",
       "      <th>House</th>\n",
       "      <th></th>\n",
       "    </tr>\n",
       "  </thead>\n",
       "  <tbody>\n",
       "    <tr>\n",
       "      <th rowspan=\"4\" valign=\"top\">ENFJ</th>\n",
       "      <th>Gryffindor</th>\n",
       "      <td>3.750552</td>\n",
       "    </tr>\n",
       "    <tr>\n",
       "      <th>Hufflepuff</th>\n",
       "      <td>3.255105</td>\n",
       "    </tr>\n",
       "    <tr>\n",
       "      <th>Ravenclaw</th>\n",
       "      <td>3.249794</td>\n",
       "    </tr>\n",
       "    <tr>\n",
       "      <th>Slytherin</th>\n",
       "      <td>3.251594</td>\n",
       "    </tr>\n",
       "    <tr>\n",
       "      <th rowspan=\"4\" valign=\"top\">ENFP</th>\n",
       "      <th>Gryffindor</th>\n",
       "      <td>3.246789</td>\n",
       "    </tr>\n",
       "    <tr>\n",
       "      <th>Hufflepuff</th>\n",
       "      <td>3.253859</td>\n",
       "    </tr>\n",
       "    <tr>\n",
       "      <th>Ravenclaw</th>\n",
       "      <td>3.248578</td>\n",
       "    </tr>\n",
       "    <tr>\n",
       "      <th>Slytherin</th>\n",
       "      <td>3.254471</td>\n",
       "    </tr>\n",
       "    <tr>\n",
       "      <th rowspan=\"4\" valign=\"top\">ENTJ</th>\n",
       "      <th>Gryffindor</th>\n",
       "      <td>3.252988</td>\n",
       "    </tr>\n",
       "    <tr>\n",
       "      <th>Hufflepuff</th>\n",
       "      <td>3.249235</td>\n",
       "    </tr>\n",
       "    <tr>\n",
       "      <th>Ravenclaw</th>\n",
       "      <td>3.245599</td>\n",
       "    </tr>\n",
       "    <tr>\n",
       "      <th>Slytherin</th>\n",
       "      <td>3.248881</td>\n",
       "    </tr>\n",
       "    <tr>\n",
       "      <th rowspan=\"4\" valign=\"top\">ENTP</th>\n",
       "      <th>Gryffindor</th>\n",
       "      <td>3.247177</td>\n",
       "    </tr>\n",
       "    <tr>\n",
       "      <th>Hufflepuff</th>\n",
       "      <td>3.252886</td>\n",
       "    </tr>\n",
       "    <tr>\n",
       "      <th>Ravenclaw</th>\n",
       "      <td>3.248428</td>\n",
       "    </tr>\n",
       "    <tr>\n",
       "      <th>Slytherin</th>\n",
       "      <td>3.748401</td>\n",
       "    </tr>\n",
       "    <tr>\n",
       "      <th rowspan=\"4\" valign=\"top\">ESFJ</th>\n",
       "      <th>Gryffindor</th>\n",
       "      <td>3.254814</td>\n",
       "    </tr>\n",
       "    <tr>\n",
       "      <th>Hufflepuff</th>\n",
       "      <td>3.248874</td>\n",
       "    </tr>\n",
       "    <tr>\n",
       "      <th>Ravenclaw</th>\n",
       "      <td>3.750071</td>\n",
       "    </tr>\n",
       "    <tr>\n",
       "      <th>Slytherin</th>\n",
       "      <td>3.248517</td>\n",
       "    </tr>\n",
       "    <tr>\n",
       "      <th rowspan=\"4\" valign=\"top\">ESFP</th>\n",
       "      <th>Gryffindor</th>\n",
       "      <td>3.749226</td>\n",
       "    </tr>\n",
       "    <tr>\n",
       "      <th>Hufflepuff</th>\n",
       "      <td>3.254829</td>\n",
       "    </tr>\n",
       "    <tr>\n",
       "      <th>Ravenclaw</th>\n",
       "      <td>3.249089</td>\n",
       "    </tr>\n",
       "    <tr>\n",
       "      <th>Slytherin</th>\n",
       "      <td>3.253565</td>\n",
       "    </tr>\n",
       "    <tr>\n",
       "      <th rowspan=\"4\" valign=\"top\">ESTJ</th>\n",
       "      <th>Gryffindor</th>\n",
       "      <td>3.252167</td>\n",
       "    </tr>\n",
       "    <tr>\n",
       "      <th>Hufflepuff</th>\n",
       "      <td>3.246099</td>\n",
       "    </tr>\n",
       "    <tr>\n",
       "      <th>Ravenclaw</th>\n",
       "      <td>3.248354</td>\n",
       "    </tr>\n",
       "    <tr>\n",
       "      <th>Slytherin</th>\n",
       "      <td>3.246143</td>\n",
       "    </tr>\n",
       "    <tr>\n",
       "      <th rowspan=\"4\" valign=\"top\">ESTP</th>\n",
       "      <th>Gryffindor</th>\n",
       "      <td>3.250391</td>\n",
       "    </tr>\n",
       "    <tr>\n",
       "      <th>Hufflepuff</th>\n",
       "      <td>3.753234</td>\n",
       "    </tr>\n",
       "    <tr>\n",
       "      <th>Ravenclaw</th>\n",
       "      <td>3.252345</td>\n",
       "    </tr>\n",
       "    <tr>\n",
       "      <th>Slytherin</th>\n",
       "      <td>3.245624</td>\n",
       "    </tr>\n",
       "    <tr>\n",
       "      <th rowspan=\"4\" valign=\"top\">INFJ</th>\n",
       "      <th>Gryffindor</th>\n",
       "      <td>3.246427</td>\n",
       "    </tr>\n",
       "    <tr>\n",
       "      <th>Hufflepuff</th>\n",
       "      <td>3.247907</td>\n",
       "    </tr>\n",
       "    <tr>\n",
       "      <th>Ravenclaw</th>\n",
       "      <td>3.249694</td>\n",
       "    </tr>\n",
       "    <tr>\n",
       "      <th>Slytherin</th>\n",
       "      <td>3.749688</td>\n",
       "    </tr>\n",
       "    <tr>\n",
       "      <th rowspan=\"4\" valign=\"top\">INFP</th>\n",
       "      <th>Gryffindor</th>\n",
       "      <td>3.250168</td>\n",
       "    </tr>\n",
       "    <tr>\n",
       "      <th>Hufflepuff</th>\n",
       "      <td>3.748948</td>\n",
       "    </tr>\n",
       "    <tr>\n",
       "      <th>Ravenclaw</th>\n",
       "      <td>3.250069</td>\n",
       "    </tr>\n",
       "    <tr>\n",
       "      <th>Slytherin</th>\n",
       "      <td>3.247019</td>\n",
       "    </tr>\n",
       "    <tr>\n",
       "      <th rowspan=\"4\" valign=\"top\">INTJ</th>\n",
       "      <th>Gryffindor</th>\n",
       "      <td>3.251442</td>\n",
       "    </tr>\n",
       "    <tr>\n",
       "      <th>Hufflepuff</th>\n",
       "      <td>3.248991</td>\n",
       "    </tr>\n",
       "    <tr>\n",
       "      <th>Ravenclaw</th>\n",
       "      <td>3.253827</td>\n",
       "    </tr>\n",
       "    <tr>\n",
       "      <th>Slytherin</th>\n",
       "      <td>3.250485</td>\n",
       "    </tr>\n",
       "    <tr>\n",
       "      <th rowspan=\"4\" valign=\"top\">INTP</th>\n",
       "      <th>Gryffindor</th>\n",
       "      <td>3.249407</td>\n",
       "    </tr>\n",
       "    <tr>\n",
       "      <th>Hufflepuff</th>\n",
       "      <td>3.249129</td>\n",
       "    </tr>\n",
       "    <tr>\n",
       "      <th>Ravenclaw</th>\n",
       "      <td>3.248398</td>\n",
       "    </tr>\n",
       "    <tr>\n",
       "      <th>Slytherin</th>\n",
       "      <td>3.247976</td>\n",
       "    </tr>\n",
       "    <tr>\n",
       "      <th rowspan=\"4\" valign=\"top\">ISFJ</th>\n",
       "      <th>Gryffindor</th>\n",
       "      <td>3.250035</td>\n",
       "    </tr>\n",
       "    <tr>\n",
       "      <th>Hufflepuff</th>\n",
       "      <td>3.247213</td>\n",
       "    </tr>\n",
       "    <tr>\n",
       "      <th>Ravenclaw</th>\n",
       "      <td>3.251208</td>\n",
       "    </tr>\n",
       "    <tr>\n",
       "      <th>Slytherin</th>\n",
       "      <td>3.249154</td>\n",
       "    </tr>\n",
       "    <tr>\n",
       "      <th rowspan=\"4\" valign=\"top\">ISFP</th>\n",
       "      <th>Gryffindor</th>\n",
       "      <td>3.253557</td>\n",
       "    </tr>\n",
       "    <tr>\n",
       "      <th>Hufflepuff</th>\n",
       "      <td>3.253105</td>\n",
       "    </tr>\n",
       "    <tr>\n",
       "      <th>Ravenclaw</th>\n",
       "      <td>3.249888</td>\n",
       "    </tr>\n",
       "    <tr>\n",
       "      <th>Slytherin</th>\n",
       "      <td>3.250312</td>\n",
       "    </tr>\n",
       "    <tr>\n",
       "      <th rowspan=\"4\" valign=\"top\">ISTJ</th>\n",
       "      <th>Gryffindor</th>\n",
       "      <td>3.253255</td>\n",
       "    </tr>\n",
       "    <tr>\n",
       "      <th>Hufflepuff</th>\n",
       "      <td>3.253729</td>\n",
       "    </tr>\n",
       "    <tr>\n",
       "      <th>Ravenclaw</th>\n",
       "      <td>3.748251</td>\n",
       "    </tr>\n",
       "    <tr>\n",
       "      <th>Slytherin</th>\n",
       "      <td>3.243001</td>\n",
       "    </tr>\n",
       "    <tr>\n",
       "      <th rowspan=\"4\" valign=\"top\">ISTP</th>\n",
       "      <th>Gryffindor</th>\n",
       "      <td>3.249348</td>\n",
       "    </tr>\n",
       "    <tr>\n",
       "      <th>Hufflepuff</th>\n",
       "      <td>3.252146</td>\n",
       "    </tr>\n",
       "    <tr>\n",
       "      <th>Ravenclaw</th>\n",
       "      <td>3.251328</td>\n",
       "    </tr>\n",
       "    <tr>\n",
       "      <th>Slytherin</th>\n",
       "      <td>3.246872</td>\n",
       "    </tr>\n",
       "  </tbody>\n",
       "</table>\n",
       "</div>"
      ],
      "text/plain": [
       "                      GPA\n",
       "MB   House               \n",
       "ENFJ Gryffindor  3.750552\n",
       "     Hufflepuff  3.255105\n",
       "     Ravenclaw   3.249794\n",
       "     Slytherin   3.251594\n",
       "ENFP Gryffindor  3.246789\n",
       "     Hufflepuff  3.253859\n",
       "     Ravenclaw   3.248578\n",
       "     Slytherin   3.254471\n",
       "ENTJ Gryffindor  3.252988\n",
       "     Hufflepuff  3.249235\n",
       "     Ravenclaw   3.245599\n",
       "     Slytherin   3.248881\n",
       "ENTP Gryffindor  3.247177\n",
       "     Hufflepuff  3.252886\n",
       "     Ravenclaw   3.248428\n",
       "     Slytherin   3.748401\n",
       "ESFJ Gryffindor  3.254814\n",
       "     Hufflepuff  3.248874\n",
       "     Ravenclaw   3.750071\n",
       "     Slytherin   3.248517\n",
       "ESFP Gryffindor  3.749226\n",
       "     Hufflepuff  3.254829\n",
       "     Ravenclaw   3.249089\n",
       "     Slytherin   3.253565\n",
       "ESTJ Gryffindor  3.252167\n",
       "     Hufflepuff  3.246099\n",
       "     Ravenclaw   3.248354\n",
       "     Slytherin   3.246143\n",
       "ESTP Gryffindor  3.250391\n",
       "     Hufflepuff  3.753234\n",
       "     Ravenclaw   3.252345\n",
       "     Slytherin   3.245624\n",
       "INFJ Gryffindor  3.246427\n",
       "     Hufflepuff  3.247907\n",
       "     Ravenclaw   3.249694\n",
       "     Slytherin   3.749688\n",
       "INFP Gryffindor  3.250168\n",
       "     Hufflepuff  3.748948\n",
       "     Ravenclaw   3.250069\n",
       "     Slytherin   3.247019\n",
       "INTJ Gryffindor  3.251442\n",
       "     Hufflepuff  3.248991\n",
       "     Ravenclaw   3.253827\n",
       "     Slytherin   3.250485\n",
       "INTP Gryffindor  3.249407\n",
       "     Hufflepuff  3.249129\n",
       "     Ravenclaw   3.248398\n",
       "     Slytherin   3.247976\n",
       "ISFJ Gryffindor  3.250035\n",
       "     Hufflepuff  3.247213\n",
       "     Ravenclaw   3.251208\n",
       "     Slytherin   3.249154\n",
       "ISFP Gryffindor  3.253557\n",
       "     Hufflepuff  3.253105\n",
       "     Ravenclaw   3.249888\n",
       "     Slytherin   3.250312\n",
       "ISTJ Gryffindor  3.253255\n",
       "     Hufflepuff  3.253729\n",
       "     Ravenclaw   3.748251\n",
       "     Slytherin   3.243001\n",
       "ISTP Gryffindor  3.249348\n",
       "     Hufflepuff  3.252146\n",
       "     Ravenclaw   3.251328\n",
       "     Slytherin   3.246872"
      ]
     },
     "execution_count": 100,
     "metadata": {},
     "output_type": "execute_result"
    }
   ],
   "source": [
    "pivot_house"
   ]
  },
  {
   "cell_type": "code",
   "execution_count": 64,
   "metadata": {
    "collapsed": false
   },
   "outputs": [
    {
     "name": "stderr",
     "output_type": "stream",
     "text": [
      "/Users/MatthewBarnette/iron_yard_hw/sorting-hat/.direnv/python-3.5.0/lib/python3.5/site-packages/sklearn/base.py:175: DeprecationWarning: inspect.getargspec() is deprecated, use inspect.signature() instead\n",
      "  args, varargs, kw, default = inspect.getargspec(init)\n"
     ]
    },
    {
     "data": {
      "text/plain": [
       "SVC(C=1.0, cache_size=200, class_weight=None, coef0=0.0, degree=3, gamma=0.0,\n",
       "  kernel='rbf', max_iter=-1, probability=False, random_state=None,\n",
       "  shrinking=True, tol=0.001, verbose=False)"
      ]
     },
     "execution_count": 64,
     "metadata": {},
     "output_type": "execute_result"
    }
   ],
   "source": [
    "inputs = house_data[[\"MB\", \"GPA\"]]\n",
    "house = house_data.House\n",
    "clf = svm.SVC()\n",
    "clf.fit(inputs, house)"
   ]
  },
  {
   "cell_type": "code",
   "execution_count": 67,
   "metadata": {
    "collapsed": false
   },
   "outputs": [
    {
     "data": {
      "text/plain": [
       "0.46591161223954658"
      ]
     },
     "execution_count": 67,
     "metadata": {},
     "output_type": "execute_result"
    }
   ],
   "source": [
    "clf.score(inputs, house)"
   ]
  },
  {
   "cell_type": "code",
   "execution_count": 103,
   "metadata": {
    "collapsed": false
   },
   "outputs": [
    {
     "name": "stdout",
     "output_type": "stream",
     "text": [
      "ENFJ Gryffindor\n",
      "ENFP Slytherin\n",
      "ENTJ Gryffindor\n",
      "ENTP Slytherin\n",
      "ESFJ Ravenclaw\n",
      "ESFP Gryffindor\n",
      "ESTJ Gryffindor\n",
      "ESTP Hufflepuff\n",
      "INFJ Slytherin\n",
      "INFP Hufflepuff\n",
      "INTJ Ravenclaw\n",
      "INTP Ravenclaw\n",
      "ISFJ Ravenclaw\n",
      "ISFP Ravenclaw\n",
      "ISTJ Ravenclaw\n",
      "ISTP Ravenclaw\n"
     ]
    }
   ],
   "source": [
    "for x in range(1, 17):\n",
    "    print(rev_mb_dict[x], rev_house_dict[clf.predict([x, 3.5])[0]])"
   ]
  },
  {
   "cell_type": "markdown",
   "metadata": {},
   "source": [
    "# G, s, g, S, R, G, g, H, S, H, r, g, r, g, R, h"
   ]
  },
  {
   "cell_type": "code",
   "execution_count": 150,
   "metadata": {
    "collapsed": false
   },
   "outputs": [],
   "source": [
    "next_year = pd.read_csv(\"data/20151014211444871494_students_2016.csv\", names=(\"Name\", \"MB\", \"Year\"),index_col=False)"
   ]
  },
  {
   "cell_type": "code",
   "execution_count": 151,
   "metadata": {
    "collapsed": false
   },
   "outputs": [],
   "source": [
    "next_year = next_year[next_year[\"Year\"] < 7]"
   ]
  },
  {
   "cell_type": "code",
   "execution_count": 152,
   "metadata": {
    "collapsed": false
   },
   "outputs": [],
   "source": [
    "next_year[\"MB\"] = next_year[\"MB\"].map(mb_dict)"
   ]
  },
  {
   "cell_type": "code",
   "execution_count": 146,
   "metadata": {
    "collapsed": false
   },
   "outputs": [],
   "source": [
    "def add_house():\n",
    "    mb_list = list(next_year[\"MB\"])\n",
    "    predict_list = []\n",
    "    pred_list = []\n",
    "    for item in mb_list:\n",
    "        predict_list.append(clf.predict([item, 3.7])[0])\n",
    "    for item in predict_list:\n",
    "        pred_list.append(rev_house_dict[item])\n",
    "    next_year['House'] = pred_list"
   ]
  },
  {
   "cell_type": "code",
   "execution_count": 153,
   "metadata": {
    "collapsed": false
   },
   "outputs": [],
   "source": [
    "add_house()"
   ]
  },
  {
   "cell_type": "code",
   "execution_count": 156,
   "metadata": {
    "collapsed": false
   },
   "outputs": [],
   "source": [
    "next_year.to_csv(\"data/house_placement.csv\", index=False)"
   ]
  },
  {
   "cell_type": "code",
   "execution_count": null,
   "metadata": {
    "collapsed": true
   },
   "outputs": [],
   "source": []
  }
 ],
 "metadata": {
  "kernelspec": {
   "display_name": "Python 3",
   "language": "python",
   "name": "python3"
  },
  "language_info": {
   "codemirror_mode": {
    "name": "ipython",
    "version": 3
   },
   "file_extension": ".py",
   "mimetype": "text/x-python",
   "name": "python",
   "nbconvert_exporter": "python",
   "pygments_lexer": "ipython3",
   "version": "3.5.0"
  }
 },
 "nbformat": 4,
 "nbformat_minor": 0
}
