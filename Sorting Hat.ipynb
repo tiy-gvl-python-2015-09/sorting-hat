{
 "cells": [
  {
   "cell_type": "code",
   "execution_count": 141,
   "metadata": {
    "collapsed": false
   },
   "outputs": [],
   "source": [
    "import pandas as pd\n",
    "import matplotlib.pyplot as plt\n",
    "import numpy as np\n",
    "from sklearn import linear_model\n",
    "from sklearn.naive_bayes import GaussianNB\n",
    "\n",
    "#20151014211444871482"
   ]
  },
  {
   "cell_type": "code",
   "execution_count": 2,
   "metadata": {
    "collapsed": true
   },
   "outputs": [],
   "source": [
    "%matplotlib inline"
   ]
  },
  {
   "cell_type": "code",
   "execution_count": 38,
   "metadata": {
    "collapsed": false
   },
   "outputs": [],
   "source": [
    "train = pd.read_csv(\"data/20151014211444871482_dataset.csv\", names=[\"Name\", \"Personality\", \"Year\", \"House\", \"GPA\"])\n",
    "test = pd.read_csv(\"data/20151014211444871482_students_2016.csv\", names=[\"Name\", \"Personality\", \"Year\"])"
   ]
  },
  {
   "cell_type": "code",
   "execution_count": 107,
   "metadata": {
    "collapsed": false
   },
   "outputs": [],
   "source": [
    "test[\"House_manual\"] = 0\n",
    "test[\"House\"] = 0"
   ]
  },
  {
   "cell_type": "code",
   "execution_count": 108,
   "metadata": {
    "collapsed": false
   },
   "outputs": [],
   "source": [
    "#train intutions"
   ]
  },
  {
   "cell_type": "code",
   "execution_count": 117,
   "metadata": {
    "collapsed": false
   },
   "outputs": [
    {
     "data": {
      "text/html": [
       "<div>\n",
       "<table border=\"1\" class=\"dataframe\">\n",
       "  <thead>\n",
       "    <tr style=\"text-align: right;\">\n",
       "      <th></th>\n",
       "      <th>Name</th>\n",
       "      <th>Personality</th>\n",
       "      <th>Year</th>\n",
       "      <th>House</th>\n",
       "      <th>GPA</th>\n",
       "    </tr>\n",
       "  </thead>\n",
       "  <tbody>\n",
       "    <tr>\n",
       "      <th>0</th>\n",
       "      <td>Rosmerta</td>\n",
       "      <td>ESTP</td>\n",
       "      <td>1</td>\n",
       "      <td>Slytherin</td>\n",
       "      <td>3.808909</td>\n",
       "    </tr>\n",
       "    <tr>\n",
       "      <th>1</th>\n",
       "      <td>Rosmerta</td>\n",
       "      <td>ESTP</td>\n",
       "      <td>2</td>\n",
       "      <td>Slytherin</td>\n",
       "      <td>3.616003</td>\n",
       "    </tr>\n",
       "    <tr>\n",
       "      <th>2</th>\n",
       "      <td>Rosmerta</td>\n",
       "      <td>ESTP</td>\n",
       "      <td>3</td>\n",
       "      <td>Slytherin</td>\n",
       "      <td>3.706343</td>\n",
       "    </tr>\n",
       "    <tr>\n",
       "      <th>3</th>\n",
       "      <td>Quigley Ogden</td>\n",
       "      <td>ISFJ</td>\n",
       "      <td>1</td>\n",
       "      <td>Hufflepuff</td>\n",
       "      <td>3.297603</td>\n",
       "    </tr>\n",
       "    <tr>\n",
       "      <th>4</th>\n",
       "      <td>Quigley Ogden</td>\n",
       "      <td>ISFJ</td>\n",
       "      <td>2</td>\n",
       "      <td>Ravenclaw</td>\n",
       "      <td>3.336324</td>\n",
       "    </tr>\n",
       "  </tbody>\n",
       "</table>\n",
       "</div>"
      ],
      "text/plain": [
       "            Name Personality  Year       House       GPA\n",
       "0      Rosmerta         ESTP     1   Slytherin  3.808909\n",
       "1      Rosmerta         ESTP     2   Slytherin  3.616003\n",
       "2      Rosmerta         ESTP     3   Slytherin  3.706343\n",
       "3  Quigley Ogden        ISFJ     1  Hufflepuff  3.297603\n",
       "4  Quigley Ogden        ISFJ     2   Ravenclaw  3.336324"
      ]
     },
     "execution_count": 117,
     "metadata": {},
     "output_type": "execute_result"
    }
   ],
   "source": [
    "train.head()"
   ]
  },
  {
   "cell_type": "code",
   "execution_count": 212,
   "metadata": {
    "collapsed": false
   },
   "outputs": [],
   "source": [
    "personality_house_table = pd.pivot_table(train, index=[\"House\", \"Personality\"], values=[\"GPA\"])"
   ]
  },
  {
   "cell_type": "code",
   "execution_count": 317,
   "metadata": {
    "collapsed": false
   },
   "outputs": [
    {
     "data": {
      "text/html": [
       "<div>\n",
       "<table border=\"1\" class=\"dataframe\">\n",
       "  <thead>\n",
       "    <tr style=\"text-align: right;\">\n",
       "      <th></th>\n",
       "      <th></th>\n",
       "      <th>GPA</th>\n",
       "    </tr>\n",
       "    <tr>\n",
       "      <th>House</th>\n",
       "      <th>Personality</th>\n",
       "      <th></th>\n",
       "    </tr>\n",
       "  </thead>\n",
       "  <tbody>\n",
       "    <tr>\n",
       "      <th>Slytherin</th>\n",
       "      <th>ISFJ</th>\n",
       "      <td>3.755265</td>\n",
       "    </tr>\n",
       "    <tr>\n",
       "      <th>Gryffindor</th>\n",
       "      <th>INFJ</th>\n",
       "      <td>3.753180</td>\n",
       "    </tr>\n",
       "    <tr>\n",
       "      <th>Slytherin</th>\n",
       "      <th>ESTP</th>\n",
       "      <td>3.751748</td>\n",
       "    </tr>\n",
       "    <tr>\n",
       "      <th>Gryffindor</th>\n",
       "      <th>ISTP</th>\n",
       "      <td>3.751370</td>\n",
       "    </tr>\n",
       "    <tr>\n",
       "      <th>Hufflepuff</th>\n",
       "      <th>ENFJ</th>\n",
       "      <td>3.751088</td>\n",
       "    </tr>\n",
       "  </tbody>\n",
       "</table>\n",
       "</div>"
      ],
      "text/plain": [
       "                             GPA\n",
       "House      Personality          \n",
       "Slytherin  ISFJ         3.755265\n",
       "Gryffindor INFJ         3.753180\n",
       "Slytherin  ESTP         3.751748\n",
       "Gryffindor ISTP         3.751370\n",
       "Hufflepuff ENFJ         3.751088"
      ]
     },
     "execution_count": 317,
     "metadata": {},
     "output_type": "execute_result"
    }
   ],
   "source": [
    "personality_house_table.sort_values(by=\"GPA\", ascending=False).head()"
   ]
  },
  {
   "cell_type": "code",
   "execution_count": 323,
   "metadata": {
    "collapsed": false
   },
   "outputs": [
    {
     "data": {
      "text/html": [
       "<div>\n",
       "<table border=\"1\" class=\"dataframe\">\n",
       "  <thead>\n",
       "    <tr>\n",
       "      <th></th>\n",
       "      <th colspan=\"4\" halign=\"left\">GPA</th>\n",
       "    </tr>\n",
       "    <tr>\n",
       "      <th>House</th>\n",
       "      <th>Gryffindor</th>\n",
       "      <th>Hufflepuff</th>\n",
       "      <th>Ravenclaw</th>\n",
       "      <th>Slytherin</th>\n",
       "    </tr>\n",
       "    <tr>\n",
       "      <th>Personality</th>\n",
       "      <th></th>\n",
       "      <th></th>\n",
       "      <th></th>\n",
       "      <th></th>\n",
       "    </tr>\n",
       "  </thead>\n",
       "  <tbody>\n",
       "    <tr>\n",
       "      <th>ENFJ</th>\n",
       "      <td>3.249577</td>\n",
       "      <td>3.751088</td>\n",
       "      <td>3.257765</td>\n",
       "      <td>3.248002</td>\n",
       "    </tr>\n",
       "    <tr>\n",
       "      <th>ENFP</th>\n",
       "      <td>3.249745</td>\n",
       "      <td>3.749691</td>\n",
       "      <td>3.246165</td>\n",
       "      <td>3.244277</td>\n",
       "    </tr>\n",
       "    <tr>\n",
       "      <th>ENTJ</th>\n",
       "      <td>3.247323</td>\n",
       "      <td>3.250110</td>\n",
       "      <td>3.249976</td>\n",
       "      <td>3.249352</td>\n",
       "    </tr>\n",
       "    <tr>\n",
       "      <th>ENTP</th>\n",
       "      <td>3.255348</td>\n",
       "      <td>3.249485</td>\n",
       "      <td>3.250067</td>\n",
       "      <td>3.245398</td>\n",
       "    </tr>\n",
       "    <tr>\n",
       "      <th>ESFJ</th>\n",
       "      <td>3.245725</td>\n",
       "      <td>3.251780</td>\n",
       "      <td>3.248426</td>\n",
       "      <td>3.248795</td>\n",
       "    </tr>\n",
       "    <tr>\n",
       "      <th>ESFP</th>\n",
       "      <td>3.248103</td>\n",
       "      <td>3.249562</td>\n",
       "      <td>3.247741</td>\n",
       "      <td>3.248949</td>\n",
       "    </tr>\n",
       "    <tr>\n",
       "      <th>ESTJ</th>\n",
       "      <td>3.251847</td>\n",
       "      <td>3.251557</td>\n",
       "      <td>3.255178</td>\n",
       "      <td>3.250323</td>\n",
       "    </tr>\n",
       "    <tr>\n",
       "      <th>ESTP</th>\n",
       "      <td>3.254573</td>\n",
       "      <td>3.246808</td>\n",
       "      <td>3.252724</td>\n",
       "      <td>3.751748</td>\n",
       "    </tr>\n",
       "    <tr>\n",
       "      <th>INFJ</th>\n",
       "      <td>3.753180</td>\n",
       "      <td>3.251263</td>\n",
       "      <td>3.247019</td>\n",
       "      <td>3.254218</td>\n",
       "    </tr>\n",
       "    <tr>\n",
       "      <th>INFP</th>\n",
       "      <td>3.247323</td>\n",
       "      <td>3.247032</td>\n",
       "      <td>3.749515</td>\n",
       "      <td>3.246010</td>\n",
       "    </tr>\n",
       "    <tr>\n",
       "      <th>INTJ</th>\n",
       "      <td>3.248105</td>\n",
       "      <td>3.250570</td>\n",
       "      <td>3.247619</td>\n",
       "      <td>3.247011</td>\n",
       "    </tr>\n",
       "    <tr>\n",
       "      <th>INTP</th>\n",
       "      <td>3.250932</td>\n",
       "      <td>3.247916</td>\n",
       "      <td>3.252804</td>\n",
       "      <td>3.249105</td>\n",
       "    </tr>\n",
       "    <tr>\n",
       "      <th>ISFJ</th>\n",
       "      <td>3.247557</td>\n",
       "      <td>3.253567</td>\n",
       "      <td>3.248354</td>\n",
       "      <td>3.755265</td>\n",
       "    </tr>\n",
       "    <tr>\n",
       "      <th>ISFP</th>\n",
       "      <td>3.251811</td>\n",
       "      <td>3.251426</td>\n",
       "      <td>3.748332</td>\n",
       "      <td>3.247288</td>\n",
       "    </tr>\n",
       "    <tr>\n",
       "      <th>ISTJ</th>\n",
       "      <td>3.251183</td>\n",
       "      <td>3.253930</td>\n",
       "      <td>3.248693</td>\n",
       "      <td>3.249923</td>\n",
       "    </tr>\n",
       "    <tr>\n",
       "      <th>ISTP</th>\n",
       "      <td>3.751370</td>\n",
       "      <td>3.247214</td>\n",
       "      <td>3.248134</td>\n",
       "      <td>3.251689</td>\n",
       "    </tr>\n",
       "  </tbody>\n",
       "</table>\n",
       "</div>"
      ],
      "text/plain": [
       "                   GPA                               \n",
       "House       Gryffindor Hufflepuff Ravenclaw Slytherin\n",
       "Personality                                          \n",
       "ENFJ          3.249577   3.751088  3.257765  3.248002\n",
       "ENFP          3.249745   3.749691  3.246165  3.244277\n",
       "ENTJ          3.247323   3.250110  3.249976  3.249352\n",
       "ENTP          3.255348   3.249485  3.250067  3.245398\n",
       "ESFJ          3.245725   3.251780  3.248426  3.248795\n",
       "ESFP          3.248103   3.249562  3.247741  3.248949\n",
       "ESTJ          3.251847   3.251557  3.255178  3.250323\n",
       "ESTP          3.254573   3.246808  3.252724  3.751748\n",
       "INFJ          3.753180   3.251263  3.247019  3.254218\n",
       "INFP          3.247323   3.247032  3.749515  3.246010\n",
       "INTJ          3.248105   3.250570  3.247619  3.247011\n",
       "INTP          3.250932   3.247916  3.252804  3.249105\n",
       "ISFJ          3.247557   3.253567  3.248354  3.755265\n",
       "ISFP          3.251811   3.251426  3.748332  3.247288\n",
       "ISTJ          3.251183   3.253930  3.248693  3.249923\n",
       "ISTP          3.751370   3.247214  3.248134  3.251689"
      ]
     },
     "execution_count": 323,
     "metadata": {},
     "output_type": "execute_result"
    }
   ],
   "source": [
    "personality_house_table = pd.pivot_table(train, columns=[\"House\"], index=[\"Personality\"], values=[\"GPA\"])\n"
   ]
  },
  {
   "cell_type": "markdown",
   "metadata": {},
   "source": [
    "best combos: <br>\n",
    "Slytherin - ISFJ, ESTP <br>\n",
    "Gryffindor - INFJ, ISTP <br>\n",
    "Hufflepuff - ENFJ, ENFP <br>\n",
    "Ravenclaw - INFP, ISFP <br>\n",
    "All above 3.74 <br>\n",
    "Other averages around 3.25 <br>\n"
   ]
  },
  {
   "cell_type": "markdown",
   "metadata": {},
   "source": [
    "I could now manually create classifiers and assign individuals based on this datatable. I believe these results would be very accurate, but I also want to accomplish this task using machine learning."
   ]
  },
  {
   "cell_type": "code",
   "execution_count": 112,
   "metadata": {
    "collapsed": false
   },
   "outputs": [],
   "source": [
    "#top 8\n",
    "test.loc[(test.Personality == \"ESTP\"), \"House_manual\"] = \"Slytherin\"\n",
    "test.loc[(test.Personality == \"ISFJ\"), \"House_manual\"] = \"Slytherin\"\n",
    "test.loc[(test.Personality == \"INFJ\"), \"House_manual\"] = \"Gryffindor\"\n",
    "test.loc[(test.Personality == \"ISTP\"), \"House_manual\"] = \"Gryffindor\"\n",
    "test.loc[(test.Personality == \"ENFJ\"), \"House_manual\"] = \"Hufflepuff\"\n",
    "test.loc[(test.Personality == \"ENFP\"), \"House_manual\"] = \"Hufflepuff\"\n",
    "test.loc[(test.Personality == \"INFP\"), \"House_manual\"] = \"Ravenclaw\"\n",
    "test.loc[(test.Personality == \"ISFP\"), \"House_manual\"] = \"Ravenclaw\"\n",
    "\n",
    "# Others\n",
    "test.loc[(test.Personality == \"ENTP\"), \"House_manual\"] = \"Gryffindor\"\n",
    "test.loc[(test.Personality == \"ESTJ\"), \"House_manual\"] = \"Ravenclaw\"\n",
    "test.loc[(test.Personality == \"ISTJ\"), \"House_manual\"] = \"Hufflepuff\"\n",
    "test.loc[(test.Personality == \"INTP\"), \"House_manual\"] = \"Ravenclaw\"\n",
    "test.loc[(test.Personality == \"ESFJ\"), \"House_manual\"] = \"Hufflepuff\"\n",
    "test.loc[(test.Personality == \"INTJ\"), \"House_manual\"] = \"Hufflepuff\"\n",
    "test.loc[(test.Personality == \"ENTJ\"), \"House_manual\"] = \"Hufflepuff\"\n",
    "test.loc[(test.Personality == \"ESFP\"), \"House_manual\"] = \"Slytherin\"\n"
   ]
  },
  {
   "cell_type": "markdown",
   "metadata": {},
   "source": [
    "Also, year doesn't make any difference thus far"
   ]
  },
  {
   "cell_type": "code",
   "execution_count": 140,
   "metadata": {
    "collapsed": false
   },
   "outputs": [],
   "source": [
    "# round GPA to 2 decimals:\n",
    "\n",
    "def truncate(floats):\n",
    "    return float(\"{0:.2f}\".format(floats))\n",
    "train.GPA = train.GPA.map(truncate)\n"
   ]
  },
  {
   "cell_type": "code",
   "execution_count": 142,
   "metadata": {
    "collapsed": false
   },
   "outputs": [],
   "source": [
    "gnb = GaussianNB()"
   ]
  },
  {
   "cell_type": "code",
   "execution_count": 184,
   "metadata": {
    "collapsed": false
   },
   "outputs": [],
   "source": [
    "input_data = df[[\"Personality\", \"GPA\"]]\n",
    "input_data.GPA = input_data.GPA.map(truncate)"
   ]
  },
  {
   "cell_type": "code",
   "execution_count": 185,
   "metadata": {
    "collapsed": false
   },
   "outputs": [
    {
     "name": "stderr",
     "output_type": "stream",
     "text": [
      "/Users/MattKasle/Matt/.direnv/python-3.5.0/lib/python3.5/site-packages/pandas/core/generic.py:2273: SettingWithCopyWarning: \n",
      "A value is trying to be set on a copy of a slice from a DataFrame.\n",
      "Try using .loc[row_indexer,col_indexer] = value instead\n",
      "\n",
      "See the caveats in the documentation: http://pandas.pydata.org/pandas-docs/stable/indexing.html#indexing-view-versus-copy\n",
      "  self[name] = value\n"
     ]
    }
   ],
   "source": [
    "input_data.Personality = input_data.Personality.map({'ENFJ': 1, 'ISTJ': 15, 'ESTJ': 7, 'ENFP': 2, 'INTJ': 11, \n",
    " 'ENTP': 4, 'ISTP': 16, 'INTP': 12, 'ENTJ': 3, 'ISFJ': 13, \n",
    " 'ISFP': 14, 'ESFP': 6, 'INFP': 10, 'INFJ': 9, 'ESTP': 8, 'ESFJ': 5})"
   ]
  },
  {
   "cell_type": "code",
   "execution_count": 269,
   "metadata": {
    "collapsed": false
   },
   "outputs": [],
   "source": [
    "df_house = df[[\"House\"]]\n",
    "house = df_house[\"House\"]"
   ]
  },
  {
   "cell_type": "code",
   "execution_count": 270,
   "metadata": {
    "collapsed": false
   },
   "outputs": [
    {
     "name": "stderr",
     "output_type": "stream",
     "text": [
      "/Users/MattKasle/Matt/.direnv/python-3.5.0/lib/python3.5/site-packages/pandas/core/generic.py:2273: SettingWithCopyWarning: \n",
      "A value is trying to be set on a copy of a slice from a DataFrame.\n",
      "Try using .loc[row_indexer,col_indexer] = value instead\n",
      "\n",
      "See the caveats in the documentation: http://pandas.pydata.org/pandas-docs/stable/indexing.html#indexing-view-versus-copy\n",
      "  self[name] = value\n"
     ]
    }
   ],
   "source": [
    "df_house.House = df_house.House.map({\"Slytherin\": 1, \"Hufflepuff\": 2, \"Ravenclaw\": 3, \"Gryffindor\": 4})"
   ]
  },
  {
   "cell_type": "code",
   "execution_count": 242,
   "metadata": {
    "collapsed": false
   },
   "outputs": [
    {
     "data": {
      "text/plain": [
       "GaussianNB()"
      ]
     },
     "execution_count": 242,
     "metadata": {},
     "output_type": "execute_result"
    }
   ],
   "source": [
    "gnb.fit(input_data, house) "
   ]
  },
  {
   "cell_type": "code",
   "execution_count": 267,
   "metadata": {
    "collapsed": false
   },
   "outputs": [
    {
     "name": "stdout",
     "output_type": "stream",
     "text": [
      "1 [2]\n",
      "2 [2]\n",
      "3 [2]\n",
      "4 [2]\n",
      "5 [2]\n",
      "6 [2]\n",
      "7 [1]\n",
      "8 [1]\n",
      "9 [1]\n",
      "10 [3]\n",
      "11 [3]\n",
      "12 [3]\n",
      "13 [4]\n",
      "14 [4]\n",
      "15 [4]\n",
      "16 [4]\n"
     ]
    }
   ],
   "source": [
    "for x in range(1,17):\n",
    "    y = gnb.predict((x, 3.7))\n",
    "    print(x,y)"
   ]
  },
  {
   "cell_type": "markdown",
   "metadata": {},
   "source": [
    "Gaussian Naive Bayes works about 60% of the time when graded against my manual classifiers, and it has a low score of .32. Not very happy with it"
   ]
  },
  {
   "cell_type": "markdown",
   "metadata": {},
   "source": [
    "'ENFJ': 1, 'ISTJ': 15, 'ESTJ': 7, 'ENFP': 2, 'INTJ': 11, <br>\n",
    "'ENTP': 4, 'ISTP': 16, 'INTP': 12, 'ENTJ': 3, 'ISFJ': 13, <br>\n",
    "'ISFP': 14, 'ESFP': 6, 'INFP': 10, 'INFJ': 9, 'ESTP': 8, 'ESFJ': 5 <br>\n",
    "\"Slytherin\": 1, \"Hufflepuff\": 2, \"Ravenclaw\": 3, \"Gryffindor\": 4 <br>\n",
    "\n",
    "\"ESTP\" 8 = 1 \"Slytherin\" <br>\n",
    "\"ISFJ\" 13= 1 \"Slytherin\"<br>\n",
    "\"INFJ\" 9 = 4 \"Gryffindor\"<br>\n",
    "\"ISTP\" 16 = 4 \"Gryffindor\"<br>\n",
    "\"ENFJ\" 1 = 2 \"Hufflepuff\"<br>\n",
    "\"ENFP\" 2 = 2 \"Hufflepuff\"<br>\n",
    "\"INFP\" 10 = 3 \"Ravenclaw\"<br>\n",
    "\"ISFP\" 14 = 3 \"Ravenclaw\"<br>\n",
    "<br>\n",
    "\"ENTP\" 4 = 4 \"Gryffindor\"<br>\n",
    "\"ESTJ\" 7 = 3 \"Ravenclaw\"<br>\n",
    "\"ISTJ\" 15 = 2 \"Hufflepuff\"<br>\n",
    "\"INTP\" 12 = 3 \"Ravenclaw\"<br>\n",
    "\"ESFJ\" 5 = 2 \"Hufflepuff\"<br>\n",
    "\"INTJ\" 11 = 2 \"Hufflepuff\"<br>\n",
    "\"ENTJ 3 = 2 \"Hufflepuff\"<br>\n",
    "\"ESFP\" 6 = 1 \"Slytherin\"<br>"
   ]
  },
  {
   "cell_type": "code",
   "execution_count": 249,
   "metadata": {
    "collapsed": false
   },
   "outputs": [
    {
     "data": {
      "text/plain": [
       "0.32183670485993843"
      ]
     },
     "execution_count": 249,
     "metadata": {},
     "output_type": "execute_result"
    }
   ],
   "source": [
    "gnb.score(input_data, house)"
   ]
  },
  {
   "cell_type": "code",
   "execution_count": 257,
   "metadata": {
    "collapsed": true
   },
   "outputs": [],
   "source": [
    "from sklearn.naive_bayes import MultinomialNB\n",
    "from sklearn.naive_bayes import BernoulliNB \n"
   ]
  },
  {
   "cell_type": "code",
   "execution_count": 258,
   "metadata": {
    "collapsed": false
   },
   "outputs": [],
   "source": [
    "nb = MultinomialNB()\n",
    "bnb = BernoulliNB()"
   ]
  },
  {
   "cell_type": "code",
   "execution_count": 259,
   "metadata": {
    "collapsed": false
   },
   "outputs": [
    {
     "name": "stderr",
     "output_type": "stream",
     "text": [
      "/Users/MattKasle/Matt/.direnv/python-3.5.0/lib/python3.5/site-packages/sklearn/base.py:175: DeprecationWarning: inspect.getargspec() is deprecated, use inspect.signature() instead\n",
      "  args, varargs, kw, default = inspect.getargspec(init)\n"
     ]
    },
    {
     "data": {
      "text/plain": [
       "BernoulliNB(alpha=1.0, binarize=0.0, class_prior=None, fit_prior=True)"
      ]
     },
     "execution_count": 259,
     "metadata": {},
     "output_type": "execute_result"
    }
   ],
   "source": [
    "nb.fit(input_data, house) \n",
    "bnb.fit(input_data, house) "
   ]
  },
  {
   "cell_type": "code",
   "execution_count": 262,
   "metadata": {
    "collapsed": false
   },
   "outputs": [
    {
     "name": "stdout",
     "output_type": "stream",
     "text": [
      "1 [2]\n",
      "2 [2]\n",
      "3 [2]\n",
      "4 [2]\n",
      "5 [2]\n",
      "6 [2]\n",
      "7 [2]\n",
      "8 [2]\n",
      "9 [4]\n",
      "10 [4]\n",
      "11 [4]\n",
      "12 [4]\n",
      "13 [4]\n",
      "14 [4]\n",
      "15 [4]\n",
      "16 [4]\n"
     ]
    }
   ],
   "source": [
    "for x in range(1,17):\n",
    "    y = nb.predict((x, 3.7))\n",
    "    print(x,y)"
   ]
  },
  {
   "cell_type": "markdown",
   "metadata": {},
   "source": [
    "Multinomial Naive Bayes does not work as it outputs only two classes"
   ]
  },
  {
   "cell_type": "code",
   "execution_count": 260,
   "metadata": {
    "collapsed": false
   },
   "outputs": [
    {
     "name": "stdout",
     "output_type": "stream",
     "text": [
      "1 [4]\n",
      "2 [4]\n",
      "3 [4]\n",
      "4 [4]\n",
      "5 [4]\n",
      "6 [4]\n",
      "7 [4]\n",
      "8 [4]\n",
      "9 [4]\n",
      "10 [4]\n",
      "11 [4]\n",
      "12 [4]\n",
      "13 [4]\n",
      "14 [4]\n",
      "15 [4]\n",
      "16 [4]\n"
     ]
    }
   ],
   "source": [
    "for x in range(1,17):\n",
    "    y = bnb.predict((x, 3.7))\n",
    "    print(x,y)"
   ]
  },
  {
   "cell_type": "markdown",
   "metadata": {},
   "source": [
    "Bernoulli Naive Bayes also does not work as it outputs only one classe"
   ]
  },
  {
   "cell_type": "markdown",
   "metadata": {},
   "source": [
    "Now I'm going to make the GPAs a discrete rather than continuous variable by putting them into buckets."
   ]
  },
  {
   "cell_type": "code",
   "execution_count": 284,
   "metadata": {
    "collapsed": false
   },
   "outputs": [
    {
     "name": "stderr",
     "output_type": "stream",
     "text": [
      "/Users/MattKasle/Matt/.direnv/python-3.5.0/lib/python3.5/site-packages/pandas/core/generic.py:2273: SettingWithCopyWarning: \n",
      "A value is trying to be set on a copy of a slice from a DataFrame.\n",
      "Try using .loc[row_indexer,col_indexer] = value instead\n",
      "\n",
      "See the caveats in the documentation: http://pandas.pydata.org/pandas-docs/stable/indexing.html#indexing-view-versus-copy\n",
      "  self[name] = value\n"
     ]
    }
   ],
   "source": [
    "input_d)"
   ]
  },
  {
   "cell_type": "code",
   "execution_count": 290,
   "metadata": {
    "collapsed": false
   },
   "outputs": [
    {
     "name": "stderr",
     "output_type": "stream",
     "text": [
      "/Users/MattKasle/Matt/.direnv/python-3.5.0/lib/python3.5/site-packages/pandas/core/generic.py:2273: SettingWithCopyWarning: \n",
      "A value is trying to be set on a copy of a slice from a DataFrame.\n",
      "Try using .loc[row_indexer,col_indexer] = value instead\n",
      "\n",
      "See the caveats in the documentation: http://pandas.pydata.org/pandas-docs/stable/indexing.html#indexing-view-versus-copy\n",
      "  self[name] = value\n"
     ]
    }
   ],
   "source": [
    "input_data = df[[\"Personality\", \"GPA\"]]\n",
    "input_data.Personality = input_data.Personality.map({'ENFJ': 1, 'ISTJ': 15, 'ESTJ': 7, 'ENFP': 2, 'INTJ': 11, \n",
    " 'ENTP': 4, 'ISTP': 16, 'INTP': 12, 'ENTJ': 3, 'ISFJ': 13, \n",
    " 'ISFP': 14, 'ESFP': 6, 'INFP': 10, 'INFJ': 9, 'ESTP': 8, 'ESFJ': 5})\n",
    "input_data.GPA = input_data.GPA.map(truncate)"
   ]
  },
  {
   "cell_type": "code",
   "execution_count": 423,
   "metadata": {
    "collapsed": false
   },
   "outputs": [],
   "source": [
    "df_house = df[[\"House\"]]\n",
    "house = df_house[\"House\"]"
   ]
  },
  {
   "cell_type": "code",
   "execution_count": 315,
   "metadata": {
    "collapsed": false
   },
   "outputs": [
    {
     "name": "stderr",
     "output_type": "stream",
     "text": [
      "/Users/MattKasle/Matt/.direnv/python-3.5.0/lib/python3.5/site-packages/pandas/core/generic.py:2273: SettingWithCopyWarning: \n",
      "A value is trying to be set on a copy of a slice from a DataFrame.\n",
      "Try using .loc[row_indexer,col_indexer] = value instead\n",
      "\n",
      "See the caveats in the documentation: http://pandas.pydata.org/pandas-docs/stable/indexing.html#indexing-view-versus-copy\n",
      "  self[name] = value\n"
     ]
    }
   ],
   "source": [
    "df_house.House = df_house.House.map({\"Slytherin\": 1, \"Hufflepuff\": 2, \"Ravenclaw\": 3, \"Gryffindor\": 4})\n",
    "house = df_house.House"
   ]
  },
  {
   "cell_type": "code",
   "execution_count": 416,
   "metadata": {
    "collapsed": false
   },
   "outputs": [
    {
     "data": {
      "text/html": [
       "<div>\n",
       "<table border=\"1\" class=\"dataframe\">\n",
       "  <thead>\n",
       "    <tr>\n",
       "      <th></th>\n",
       "      <th colspan=\"4\" halign=\"left\">GPA</th>\n",
       "    </tr>\n",
       "    <tr>\n",
       "      <th>House</th>\n",
       "      <th>Gryffindor</th>\n",
       "      <th>Hufflepuff</th>\n",
       "      <th>Ravenclaw</th>\n",
       "      <th>Slytherin</th>\n",
       "    </tr>\n",
       "    <tr>\n",
       "      <th>Personality</th>\n",
       "      <th></th>\n",
       "      <th></th>\n",
       "      <th></th>\n",
       "      <th></th>\n",
       "    </tr>\n",
       "  </thead>\n",
       "  <tbody>\n",
       "    <tr>\n",
       "      <th>ENFJ</th>\n",
       "      <td>3.249577</td>\n",
       "      <td>3.751088</td>\n",
       "      <td>3.257765</td>\n",
       "      <td>3.248002</td>\n",
       "    </tr>\n",
       "    <tr>\n",
       "      <th>ENFP</th>\n",
       "      <td>3.249745</td>\n",
       "      <td>3.749691</td>\n",
       "      <td>3.246165</td>\n",
       "      <td>3.244277</td>\n",
       "    </tr>\n",
       "    <tr>\n",
       "      <th>ENTJ</th>\n",
       "      <td>3.247323</td>\n",
       "      <td>3.250110</td>\n",
       "      <td>3.249976</td>\n",
       "      <td>3.249352</td>\n",
       "    </tr>\n",
       "    <tr>\n",
       "      <th>ENTP</th>\n",
       "      <td>3.255348</td>\n",
       "      <td>3.249485</td>\n",
       "      <td>3.250067</td>\n",
       "      <td>3.245398</td>\n",
       "    </tr>\n",
       "    <tr>\n",
       "      <th>ESFJ</th>\n",
       "      <td>3.245725</td>\n",
       "      <td>3.251780</td>\n",
       "      <td>3.248426</td>\n",
       "      <td>3.248795</td>\n",
       "    </tr>\n",
       "  </tbody>\n",
       "</table>\n",
       "</div>"
      ],
      "text/plain": [
       "                   GPA                               \n",
       "House       Gryffindor Hufflepuff Ravenclaw Slytherin\n",
       "Personality                                          \n",
       "ENFJ          3.249577   3.751088  3.257765  3.248002\n",
       "ENFP          3.249745   3.749691  3.246165  3.244277\n",
       "ENTJ          3.247323   3.250110  3.249976  3.249352\n",
       "ENTP          3.255348   3.249485  3.250067  3.245398\n",
       "ESFJ          3.245725   3.251780  3.248426  3.248795"
      ]
     },
     "execution_count": 416,
     "metadata": {},
     "output_type": "execute_result"
    }
   ],
   "source": [
    "personality_house_table.head()"
   ]
  },
  {
   "cell_type": "code",
   "execution_count": 411,
   "metadata": {
    "collapsed": false
   },
   "outputs": [],
   "source": [
    "gryffindor = personality_house_table['GPA']['Gryffindor']\n",
    "hufflepuff = personality_house_table['GPA']['Hufflepuff']\n",
    "ravenclaw = personality_house_table['GPA']['Ravenclaw']\n",
    "slytherin = personality_house_table['GPA']['Slytherin']"
   ]
  },
  {
   "cell_type": "code",
   "execution_count": 412,
   "metadata": {
    "collapsed": false
   },
   "outputs": [],
   "source": [
    "gryffindor = pd.DataFrame(gryffindor)\n",
    "gryffindor['House'] = 'Gryffindor'\n",
    "gryffindor.reset_index(inplace=True)\n",
    "gryffindor = gryffindor.rename(columns={\"Gryffindor\": \"GPA\"})\n",
    "\n",
    "hufflepuff = pd.DataFrame(hufflepuff)\n",
    "hufflepuff['House'] = 'Hufflepuff'\n",
    "hufflepuff.reset_index(inplace=True)\n",
    "hufflepuff = hufflepuff.rename(columns={\"Hufflepuff\": \"GPA\"})\n",
    "\n",
    "ravenclaw = pd.DataFrame(ravenclaw)\n",
    "ravenclaw['House'] = 'Ravenclaw'\n",
    "ravenclaw.reset_index(inplace=True)\n",
    "ravenclaw = ravenclaw.rename(columns={\"Ravenclaw\": \"GPA\"})\n",
    "\n",
    "slytherin = pd.DataFrame(slytherin)\n",
    "slytherin['House'] = 'Slytherin'\n",
    "slytherin.reset_index(inplace=True)\n",
    "slytherin = slytherin.rename(columns={\"Slytherin\": \"GPA\"})\n"
   ]
  },
  {
   "cell_type": "code",
   "execution_count": 430,
   "metadata": {
    "collapsed": false
   },
   "outputs": [],
   "source": [
    "houses = [gryffindor, hufflepuff, ravenclaw, slytherin]\n",
    "pivot_data = pd.concat(houses)\n",
    "pivot_data.index = range(0,64)"
   ]
  },
  {
   "cell_type": "code",
   "execution_count": 465,
   "metadata": {
    "collapsed": false
   },
   "outputs": [
    {
     "name": "stderr",
     "output_type": "stream",
     "text": [
      "/Users/MattKasle/Matt/.direnv/python-3.5.0/lib/python3.5/site-packages/pandas/core/generic.py:2273: SettingWithCopyWarning: \n",
      "A value is trying to be set on a copy of a slice from a DataFrame.\n",
      "Try using .loc[row_indexer,col_indexer] = value instead\n",
      "\n",
      "See the caveats in the documentation: http://pandas.pydata.org/pandas-docs/stable/indexing.html#indexing-view-versus-copy\n",
      "  self[name] = value\n"
     ]
    }
   ],
   "source": [
    "input_data = pivot_data[[\"Personality\", \"GPA\"]]\n",
    "input_data.GPA = input_data.GPA.map(truncate)\n",
    "input_data.Personality = input_data.Personality.map({'ENFJ': 1, 'ISTJ': 15, 'ESTJ': 7, 'ENFP': 2, 'INTJ': 11, \n",
    " 'ENTP': 4, 'ISTP': 16, 'INTP': 12, 'ENTJ': 3, 'ISFJ': 13, \n",
    " 'ISFP': 14, 'ESFP': 6, 'INFP': 10, 'INFJ': 9, 'ESTP': 8, 'ESFJ': 5})"
   ]
  },
  {
   "cell_type": "code",
   "execution_count": 466,
   "metadata": {
    "collapsed": false
   },
   "outputs": [
    {
     "data": {
      "text/html": [
       "<div>\n",
       "<table border=\"1\" class=\"dataframe\">\n",
       "  <thead>\n",
       "    <tr style=\"text-align: right;\">\n",
       "      <th></th>\n",
       "      <th>Personality</th>\n",
       "      <th>GPA</th>\n",
       "    </tr>\n",
       "  </thead>\n",
       "  <tbody>\n",
       "    <tr>\n",
       "      <th>0</th>\n",
       "      <td>1</td>\n",
       "      <td>3.25</td>\n",
       "    </tr>\n",
       "    <tr>\n",
       "      <th>1</th>\n",
       "      <td>2</td>\n",
       "      <td>3.25</td>\n",
       "    </tr>\n",
       "    <tr>\n",
       "      <th>2</th>\n",
       "      <td>3</td>\n",
       "      <td>3.25</td>\n",
       "    </tr>\n",
       "    <tr>\n",
       "      <th>3</th>\n",
       "      <td>4</td>\n",
       "      <td>3.26</td>\n",
       "    </tr>\n",
       "    <tr>\n",
       "      <th>4</th>\n",
       "      <td>5</td>\n",
       "      <td>3.25</td>\n",
       "    </tr>\n",
       "    <tr>\n",
       "      <th>5</th>\n",
       "      <td>6</td>\n",
       "      <td>3.25</td>\n",
       "    </tr>\n",
       "    <tr>\n",
       "      <th>6</th>\n",
       "      <td>7</td>\n",
       "      <td>3.25</td>\n",
       "    </tr>\n",
       "    <tr>\n",
       "      <th>7</th>\n",
       "      <td>8</td>\n",
       "      <td>3.25</td>\n",
       "    </tr>\n",
       "    <tr>\n",
       "      <th>8</th>\n",
       "      <td>9</td>\n",
       "      <td>3.75</td>\n",
       "    </tr>\n",
       "    <tr>\n",
       "      <th>9</th>\n",
       "      <td>10</td>\n",
       "      <td>3.25</td>\n",
       "    </tr>\n",
       "    <tr>\n",
       "      <th>10</th>\n",
       "      <td>11</td>\n",
       "      <td>3.25</td>\n",
       "    </tr>\n",
       "    <tr>\n",
       "      <th>11</th>\n",
       "      <td>12</td>\n",
       "      <td>3.25</td>\n",
       "    </tr>\n",
       "    <tr>\n",
       "      <th>12</th>\n",
       "      <td>13</td>\n",
       "      <td>3.25</td>\n",
       "    </tr>\n",
       "    <tr>\n",
       "      <th>13</th>\n",
       "      <td>14</td>\n",
       "      <td>3.25</td>\n",
       "    </tr>\n",
       "    <tr>\n",
       "      <th>14</th>\n",
       "      <td>15</td>\n",
       "      <td>3.25</td>\n",
       "    </tr>\n",
       "    <tr>\n",
       "      <th>15</th>\n",
       "      <td>16</td>\n",
       "      <td>3.75</td>\n",
       "    </tr>\n",
       "    <tr>\n",
       "      <th>16</th>\n",
       "      <td>1</td>\n",
       "      <td>3.75</td>\n",
       "    </tr>\n",
       "    <tr>\n",
       "      <th>17</th>\n",
       "      <td>2</td>\n",
       "      <td>3.75</td>\n",
       "    </tr>\n",
       "    <tr>\n",
       "      <th>18</th>\n",
       "      <td>3</td>\n",
       "      <td>3.25</td>\n",
       "    </tr>\n",
       "    <tr>\n",
       "      <th>19</th>\n",
       "      <td>4</td>\n",
       "      <td>3.25</td>\n",
       "    </tr>\n",
       "    <tr>\n",
       "      <th>20</th>\n",
       "      <td>5</td>\n",
       "      <td>3.25</td>\n",
       "    </tr>\n",
       "    <tr>\n",
       "      <th>21</th>\n",
       "      <td>6</td>\n",
       "      <td>3.25</td>\n",
       "    </tr>\n",
       "    <tr>\n",
       "      <th>22</th>\n",
       "      <td>7</td>\n",
       "      <td>3.25</td>\n",
       "    </tr>\n",
       "    <tr>\n",
       "      <th>23</th>\n",
       "      <td>8</td>\n",
       "      <td>3.25</td>\n",
       "    </tr>\n",
       "    <tr>\n",
       "      <th>24</th>\n",
       "      <td>9</td>\n",
       "      <td>3.25</td>\n",
       "    </tr>\n",
       "    <tr>\n",
       "      <th>25</th>\n",
       "      <td>10</td>\n",
       "      <td>3.25</td>\n",
       "    </tr>\n",
       "    <tr>\n",
       "      <th>26</th>\n",
       "      <td>11</td>\n",
       "      <td>3.25</td>\n",
       "    </tr>\n",
       "    <tr>\n",
       "      <th>27</th>\n",
       "      <td>12</td>\n",
       "      <td>3.25</td>\n",
       "    </tr>\n",
       "    <tr>\n",
       "      <th>28</th>\n",
       "      <td>13</td>\n",
       "      <td>3.25</td>\n",
       "    </tr>\n",
       "    <tr>\n",
       "      <th>29</th>\n",
       "      <td>14</td>\n",
       "      <td>3.25</td>\n",
       "    </tr>\n",
       "    <tr>\n",
       "      <th>...</th>\n",
       "      <td>...</td>\n",
       "      <td>...</td>\n",
       "    </tr>\n",
       "    <tr>\n",
       "      <th>34</th>\n",
       "      <td>3</td>\n",
       "      <td>3.25</td>\n",
       "    </tr>\n",
       "    <tr>\n",
       "      <th>35</th>\n",
       "      <td>4</td>\n",
       "      <td>3.25</td>\n",
       "    </tr>\n",
       "    <tr>\n",
       "      <th>36</th>\n",
       "      <td>5</td>\n",
       "      <td>3.25</td>\n",
       "    </tr>\n",
       "    <tr>\n",
       "      <th>37</th>\n",
       "      <td>6</td>\n",
       "      <td>3.25</td>\n",
       "    </tr>\n",
       "    <tr>\n",
       "      <th>38</th>\n",
       "      <td>7</td>\n",
       "      <td>3.26</td>\n",
       "    </tr>\n",
       "    <tr>\n",
       "      <th>39</th>\n",
       "      <td>8</td>\n",
       "      <td>3.25</td>\n",
       "    </tr>\n",
       "    <tr>\n",
       "      <th>40</th>\n",
       "      <td>9</td>\n",
       "      <td>3.25</td>\n",
       "    </tr>\n",
       "    <tr>\n",
       "      <th>41</th>\n",
       "      <td>10</td>\n",
       "      <td>3.75</td>\n",
       "    </tr>\n",
       "    <tr>\n",
       "      <th>42</th>\n",
       "      <td>11</td>\n",
       "      <td>3.25</td>\n",
       "    </tr>\n",
       "    <tr>\n",
       "      <th>43</th>\n",
       "      <td>12</td>\n",
       "      <td>3.25</td>\n",
       "    </tr>\n",
       "    <tr>\n",
       "      <th>44</th>\n",
       "      <td>13</td>\n",
       "      <td>3.25</td>\n",
       "    </tr>\n",
       "    <tr>\n",
       "      <th>45</th>\n",
       "      <td>14</td>\n",
       "      <td>3.75</td>\n",
       "    </tr>\n",
       "    <tr>\n",
       "      <th>46</th>\n",
       "      <td>15</td>\n",
       "      <td>3.25</td>\n",
       "    </tr>\n",
       "    <tr>\n",
       "      <th>47</th>\n",
       "      <td>16</td>\n",
       "      <td>3.25</td>\n",
       "    </tr>\n",
       "    <tr>\n",
       "      <th>48</th>\n",
       "      <td>1</td>\n",
       "      <td>3.25</td>\n",
       "    </tr>\n",
       "    <tr>\n",
       "      <th>49</th>\n",
       "      <td>2</td>\n",
       "      <td>3.24</td>\n",
       "    </tr>\n",
       "    <tr>\n",
       "      <th>50</th>\n",
       "      <td>3</td>\n",
       "      <td>3.25</td>\n",
       "    </tr>\n",
       "    <tr>\n",
       "      <th>51</th>\n",
       "      <td>4</td>\n",
       "      <td>3.25</td>\n",
       "    </tr>\n",
       "    <tr>\n",
       "      <th>52</th>\n",
       "      <td>5</td>\n",
       "      <td>3.25</td>\n",
       "    </tr>\n",
       "    <tr>\n",
       "      <th>53</th>\n",
       "      <td>6</td>\n",
       "      <td>3.25</td>\n",
       "    </tr>\n",
       "    <tr>\n",
       "      <th>54</th>\n",
       "      <td>7</td>\n",
       "      <td>3.25</td>\n",
       "    </tr>\n",
       "    <tr>\n",
       "      <th>55</th>\n",
       "      <td>8</td>\n",
       "      <td>3.75</td>\n",
       "    </tr>\n",
       "    <tr>\n",
       "      <th>56</th>\n",
       "      <td>9</td>\n",
       "      <td>3.25</td>\n",
       "    </tr>\n",
       "    <tr>\n",
       "      <th>57</th>\n",
       "      <td>10</td>\n",
       "      <td>3.25</td>\n",
       "    </tr>\n",
       "    <tr>\n",
       "      <th>58</th>\n",
       "      <td>11</td>\n",
       "      <td>3.25</td>\n",
       "    </tr>\n",
       "    <tr>\n",
       "      <th>59</th>\n",
       "      <td>12</td>\n",
       "      <td>3.25</td>\n",
       "    </tr>\n",
       "    <tr>\n",
       "      <th>60</th>\n",
       "      <td>13</td>\n",
       "      <td>3.76</td>\n",
       "    </tr>\n",
       "    <tr>\n",
       "      <th>61</th>\n",
       "      <td>14</td>\n",
       "      <td>3.25</td>\n",
       "    </tr>\n",
       "    <tr>\n",
       "      <th>62</th>\n",
       "      <td>15</td>\n",
       "      <td>3.25</td>\n",
       "    </tr>\n",
       "    <tr>\n",
       "      <th>63</th>\n",
       "      <td>16</td>\n",
       "      <td>3.25</td>\n",
       "    </tr>\n",
       "  </tbody>\n",
       "</table>\n",
       "<p>64 rows × 2 columns</p>\n",
       "</div>"
      ],
      "text/plain": [
       "    Personality   GPA\n",
       "0             1  3.25\n",
       "1             2  3.25\n",
       "2             3  3.25\n",
       "3             4  3.26\n",
       "4             5  3.25\n",
       "5             6  3.25\n",
       "6             7  3.25\n",
       "7             8  3.25\n",
       "8             9  3.75\n",
       "9            10  3.25\n",
       "10           11  3.25\n",
       "11           12  3.25\n",
       "12           13  3.25\n",
       "13           14  3.25\n",
       "14           15  3.25\n",
       "15           16  3.75\n",
       "16            1  3.75\n",
       "17            2  3.75\n",
       "18            3  3.25\n",
       "19            4  3.25\n",
       "20            5  3.25\n",
       "21            6  3.25\n",
       "22            7  3.25\n",
       "23            8  3.25\n",
       "24            9  3.25\n",
       "25           10  3.25\n",
       "26           11  3.25\n",
       "27           12  3.25\n",
       "28           13  3.25\n",
       "29           14  3.25\n",
       "..          ...   ...\n",
       "34            3  3.25\n",
       "35            4  3.25\n",
       "36            5  3.25\n",
       "37            6  3.25\n",
       "38            7  3.26\n",
       "39            8  3.25\n",
       "40            9  3.25\n",
       "41           10  3.75\n",
       "42           11  3.25\n",
       "43           12  3.25\n",
       "44           13  3.25\n",
       "45           14  3.75\n",
       "46           15  3.25\n",
       "47           16  3.25\n",
       "48            1  3.25\n",
       "49            2  3.24\n",
       "50            3  3.25\n",
       "51            4  3.25\n",
       "52            5  3.25\n",
       "53            6  3.25\n",
       "54            7  3.25\n",
       "55            8  3.75\n",
       "56            9  3.25\n",
       "57           10  3.25\n",
       "58           11  3.25\n",
       "59           12  3.25\n",
       "60           13  3.76\n",
       "61           14  3.25\n",
       "62           15  3.25\n",
       "63           16  3.25\n",
       "\n",
       "[64 rows x 2 columns]"
      ]
     },
     "execution_count": 466,
     "metadata": {},
     "output_type": "execute_result"
    }
   ],
   "source": [
    "input_data"
   ]
  },
  {
   "cell_type": "code",
   "execution_count": 467,
   "metadata": {
    "collapsed": false
   },
   "outputs": [
    {
     "name": "stderr",
     "output_type": "stream",
     "text": [
      "/Users/MattKasle/Matt/.direnv/python-3.5.0/lib/python3.5/site-packages/pandas/core/generic.py:2273: SettingWithCopyWarning: \n",
      "A value is trying to be set on a copy of a slice from a DataFrame.\n",
      "Try using .loc[row_indexer,col_indexer] = value instead\n",
      "\n",
      "See the caveats in the documentation: http://pandas.pydata.org/pandas-docs/stable/indexing.html#indexing-view-versus-copy\n",
      "  self[name] = value\n"
     ]
    }
   ],
   "source": [
    "df_house = pivot_data[[\"House\"]]\n",
    "df_house.House = df_house.House.map({\"Slytherin\": 1, \"Hufflepuff\": 2, \"Ravenclaw\": 3, \"Gryffindor\": 4})\n",
    "house = df_house[\"House\"]\n"
   ]
  },
  {
   "cell_type": "code",
   "execution_count": 470,
   "metadata": {
    "collapsed": false
   },
   "outputs": [
    {
     "data": {
      "text/plain": [
       "GaussianNB()"
      ]
     },
     "execution_count": 470,
     "metadata": {},
     "output_type": "execute_result"
    }
   ],
   "source": [
    "gnb = GaussianNB()\n",
    "gnb.fit(input_data, house) \n"
   ]
  },
  {
   "cell_type": "code",
   "execution_count": 471,
   "metadata": {
    "collapsed": false
   },
   "outputs": [
    {
     "name": "stdout",
     "output_type": "stream",
     "text": [
      "1 [1]\n",
      "2 [1]\n",
      "3 [1]\n",
      "4 [1]\n",
      "5 [1]\n",
      "6 [1]\n",
      "7 [1]\n",
      "8 [1]\n",
      "9 [1]\n",
      "10 [1]\n",
      "11 [1]\n",
      "12 [1]\n",
      "13 [1]\n",
      "14 [1]\n",
      "15 [1]\n",
      "16 [1]\n"
     ]
    }
   ],
   "source": [
    "for x in range(1,17):\n",
    "    y = gnb.predict((x, 3.0))\n",
    "    print(x,y)"
   ]
  },
  {
   "cell_type": "markdown",
   "metadata": {},
   "source": [
    "Not working with any type of Bayes :("
   ]
  },
  {
   "cell_type": "code",
   "execution_count": null,
   "metadata": {
    "collapsed": true
   },
   "outputs": [],
   "source": []
  }
 ],
 "metadata": {
  "kernelspec": {
   "display_name": "Python 3",
   "language": "python",
   "name": "python3"
  },
  "language_info": {
   "codemirror_mode": {
    "name": "ipython",
    "version": 3
   },
   "file_extension": ".py",
   "mimetype": "text/x-python",
   "name": "python",
   "nbconvert_exporter": "python",
   "pygments_lexer": "ipython3",
   "version": "3.5.0"
  }
 },
 "nbformat": 4,
 "nbformat_minor": 0
}
