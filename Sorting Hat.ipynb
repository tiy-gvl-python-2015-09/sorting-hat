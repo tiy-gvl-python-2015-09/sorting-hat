{
 "cells": [
  {
   "cell_type": "code",
   "execution_count": 1,
   "metadata": {
    "collapsed": false
   },
   "outputs": [
    {
     "name": "stderr",
     "output_type": "stream",
     "text": [
      "/Users/ZSeaborn/Desktop/Homework/sorting-hat/.direnv/python-3.5.0/lib/python3.5/site-packages/sklearn/utils/fixes.py:64: DeprecationWarning: inspect.getargspec() is deprecated, use inspect.signature() instead\n",
      "  if 'order' in inspect.getargspec(np.copy)[0]:\n"
     ]
    }
   ],
   "source": [
    "import pandas as pd\n",
    "from sklearn.naive_bayes import GaussianNB\n",
    "import numpy as np\n",
    "import itertools\n",
    "from sklearn import svm"
   ]
  },
  {
   "cell_type": "code",
   "execution_count": 2,
   "metadata": {
    "collapsed": false
   },
   "outputs": [],
   "source": [
    "train = pd.read_csv(\"data/20151014211444871487_dataset.csv\", names=[\"Name\", \"Personality\", \"Year\", \"House\", \"GPA\"])"
   ]
  },
  {
   "cell_type": "code",
   "execution_count": 3,
   "metadata": {
    "collapsed": true
   },
   "outputs": [],
   "source": [
    "house_dict = {\"Gryffindor\": 1.00, \"Hufflepuff\": 2.00, \"Ravenclaw\": 3.00, \"Slytherin\": 4.00}\n",
    "personality_dict = {\n",
    "    \"INFP\": 1.00,\n",
    "    \"INFJ\": 2.00,\n",
    "    \"ENFJ\": 3.00,\n",
    "    \"ENFP\": 4.00,\n",
    "    \"INTJ\": 5.00,\n",
    "    \"ENTJ\": 6.00,\n",
    "    \"ENTP\": 7.00,\n",
    "    \"INTP\": 8.00,\n",
    "    \"ESFJ\": 9.00,\n",
    "    \"ESFP\": 10.00,\n",
    "    \"ISFJ\": 11.00,\n",
    "    \"ISFP\": 12.00,\n",
    "    \"ESTJ\": 13.00, \n",
    "    \"ESTP\": 14.00, \n",
    "    \"ISTJ\": 15.00, \n",
    "    \"ISTP\": 16.00    \n",
    "}"
   ]
  },
  {
   "cell_type": "code",
   "execution_count": null,
   "metadata": {
    "collapsed": false
   },
   "outputs": [],
   "source": [
    "train.head()\n",
    "# Use Personality and House to predict GPA\n",
    "# Highest GPA is the goal"
   ]
  },
  {
   "cell_type": "code",
   "execution_count": 4,
   "metadata": {
    "collapsed": false
   },
   "outputs": [],
   "source": [
    "train.Personality = train.Personality.map(personality_dict)\n",
    "train.House = train.House.map(house_dict)"
   ]
  },
  {
   "cell_type": "code",
   "execution_count": null,
   "metadata": {
    "collapsed": false
   },
   "outputs": [],
   "source": [
    "type(train.House[9])"
   ]
  },
  {
   "cell_type": "code",
   "execution_count": 5,
   "metadata": {
    "collapsed": false
   },
   "outputs": [],
   "source": [
    "def truncate(floats):\n",
    "    return float(\"{0:.2f}\".format(floats))\n",
    "train.GPA = train.GPA.map(truncate)\n",
    "# works, but doesn't allow gnb.fit() to work"
   ]
  },
  {
   "cell_type": "code",
   "execution_count": null,
   "metadata": {
    "collapsed": false
   },
   "outputs": [],
   "source": [
    "#train.Personality = train.Personality.map(float())\n",
    "#train.House = float(train.House.values)"
   ]
  },
  {
   "cell_type": "code",
   "execution_count": null,
   "metadata": {
    "collapsed": false
   },
   "outputs": [],
   "source": [
    "train.head()"
   ]
  },
  {
   "cell_type": "code",
   "execution_count": null,
   "metadata": {
    "collapsed": false
   },
   "outputs": [],
   "source": [
    "def pick_house(df, got, want):\n",
    "    gnb1 = GaussianNB()\n",
    "    gnb1.fit(got, want)\n",
    "    gpa_by_house = []\n",
    "    for row in df:\n",
    "        for y in range(1,5):\n",
    "            hhy = gnb1.predict([df.Personality, y])[0]\n",
    "            gpa_by_house.append(hhy, y)\n",
    "    best = sorted(gpa_by_hosue[0], key=lambda x: x[1])[-1]\n",
    "    return best[1]"
   ]
  },
  {
   "cell_type": "code",
   "execution_count": 6,
   "metadata": {
    "collapsed": false
   },
   "outputs": [],
   "source": [
    "clf = svm.SVR()"
   ]
  },
  {
   "cell_type": "code",
   "execution_count": 7,
   "metadata": {
    "collapsed": false
   },
   "outputs": [],
   "source": [
    "factors = train[[\"Personality\", \"House\"]]\n",
    "gpa = train[\"GPA\"]"
   ]
  },
  {
   "cell_type": "code",
   "execution_count": 8,
   "metadata": {
    "collapsed": false
   },
   "outputs": [
    {
     "name": "stderr",
     "output_type": "stream",
     "text": [
      "/Users/ZSeaborn/Desktop/Homework/sorting-hat/.direnv/python-3.5.0/lib/python3.5/site-packages/sklearn/base.py:175: DeprecationWarning: inspect.getargspec() is deprecated, use inspect.signature() instead\n",
      "  args, varargs, kw, default = inspect.getargspec(init)\n"
     ]
    },
    {
     "data": {
      "text/plain": [
       "SVR(C=1.0, cache_size=200, coef0=0.0, degree=3, epsilon=0.1, gamma=0.0,\n",
       "  kernel='rbf', max_iter=-1, shrinking=True, tol=0.001, verbose=False)"
      ]
     },
     "execution_count": 8,
     "metadata": {},
     "output_type": "execute_result"
    }
   ],
   "source": [
    "clf.fit(factors, gpa)"
   ]
  },
  {
   "cell_type": "code",
   "execution_count": 10,
   "metadata": {
    "collapsed": false
   },
   "outputs": [
    {
     "data": {
      "text/plain": [
       "array([ 3.24953242])"
      ]
     },
     "execution_count": 10,
     "metadata": {},
     "output_type": "execute_result"
    }
   ],
   "source": [
    "clf.predict([1, 3])"
   ]
  },
  {
   "cell_type": "markdown",
   "metadata": {},
   "source": [
    "## Actual Predictions"
   ]
  },
  {
   "cell_type": "markdown",
   "metadata": {},
   "source": [
    "INFP"
   ]
  },
  {
   "cell_type": "code",
   "execution_count": 16,
   "metadata": {
    "collapsed": false
   },
   "outputs": [
    {
     "name": "stdout",
     "output_type": "stream",
     "text": [
      "3.24956511232\n",
      "3.25027624266\n",
      "3.24953242358\n",
      "3.24979621912\n"
     ]
    }
   ],
   "source": [
    "print(clf.predict([1, 1])[0])\n",
    "print(clf.predict([1, 2])[0])\n",
    "print(clf.predict([1, 3])[0])\n",
    "print(clf.predict([1, 4])[0])"
   ]
  },
  {
   "cell_type": "markdown",
   "metadata": {},
   "source": [
    "From the above data, I cannot accurately predict which house the INFP personality type should be in."
   ]
  },
  {
   "cell_type": "markdown",
   "metadata": {},
   "source": [
    "INFJ"
   ]
  },
  {
   "cell_type": "code",
   "execution_count": 17,
   "metadata": {
    "collapsed": false
   },
   "outputs": [
    {
     "name": "stdout",
     "output_type": "stream",
     "text": [
      "3.25014583128\n",
      "3.24984548278\n",
      "3.75029407522\n",
      "3.24953969657\n"
     ]
    }
   ],
   "source": [
    "print(clf.predict([2, 1])[0])\n",
    "print(clf.predict([2, 2])[0])\n",
    "print(clf.predict([2, 3])[0])\n",
    "print(clf.predict([2, 4])[0])"
   ]
  },
  {
   "cell_type": "markdown",
   "metadata": {},
   "source": [
    "From the above data, it can be determined that the INFJ personaily type should be placed into Ravenclaw."
   ]
  },
  {
   "cell_type": "markdown",
   "metadata": {},
   "source": [
    "ENFJ"
   ]
  },
  {
   "cell_type": "code",
   "execution_count": 18,
   "metadata": {
    "collapsed": false
   },
   "outputs": [
    {
     "name": "stdout",
     "output_type": "stream",
     "text": [
      "3.74962340994\n",
      "3.25025105993\n",
      "3.24958003088\n",
      "3.24999266564\n"
     ]
    }
   ],
   "source": [
    "print(clf.predict([3, 1])[0])\n",
    "print(clf.predict([3, 2])[0])\n",
    "print(clf.predict([3, 3])[0])\n",
    "print(clf.predict([3, 4])[0])"
   ]
  },
  {
   "cell_type": "markdown",
   "metadata": {},
   "source": [
    "From the above data, it can be determined that the ENFJ personality type should be placed into Gryffindor."
   ]
  },
  {
   "cell_type": "markdown",
   "metadata": {},
   "source": [
    "ENFP"
   ]
  },
  {
   "cell_type": "code",
   "execution_count": 19,
   "metadata": {
    "collapsed": false
   },
   "outputs": [
    {
     "name": "stdout",
     "output_type": "stream",
     "text": [
      "3.2602619167\n",
      "3.24970695204\n",
      "3.25005148898\n",
      "3.74952521341\n"
     ]
    }
   ],
   "source": [
    "print(clf.predict([4, 1])[0])\n",
    "print(clf.predict([4, 2])[0])\n",
    "print(clf.predict([4, 3])[0])\n",
    "print(clf.predict([4, 4])[0])"
   ]
  },
  {
   "cell_type": "markdown",
   "metadata": {},
   "source": [
    "From the data above, it can be determined that the ENFP personality type should be placed into Slytherin."
   ]
  },
  {
   "cell_type": "markdown",
   "metadata": {},
   "source": [
    "INTJ"
   ]
  },
  {
   "cell_type": "code",
   "execution_count": 20,
   "metadata": {
    "collapsed": false
   },
   "outputs": [
    {
     "name": "stdout",
     "output_type": "stream",
     "text": [
      "3.25002887907\n",
      "3.25035298506\n",
      "3.24981775373\n",
      "3.24981775028\n"
     ]
    }
   ],
   "source": [
    "print(clf.predict([5, 1])[0])\n",
    "print(clf.predict([5, 2])[0])\n",
    "print(clf.predict([5, 3])[0])\n",
    "print(clf.predict([5, 4])[0])"
   ]
  },
  {
   "cell_type": "markdown",
   "metadata": {},
   "source": [
    "From the data above, it cannot be accurately determined which house the INTJ personality type should be placed into."
   ]
  },
  {
   "cell_type": "markdown",
   "metadata": {},
   "source": [
    "ENTJ"
   ]
  },
  {
   "cell_type": "code",
   "execution_count": 21,
   "metadata": {
    "collapsed": false
   },
   "outputs": [
    {
     "name": "stdout",
     "output_type": "stream",
     "text": [
      "3.2403269598\n",
      "3.24982933703\n",
      "3.25017379597\n",
      "3.23947063735\n"
     ]
    }
   ],
   "source": [
    "print(clf.predict([6, 1])[0])\n",
    "print(clf.predict([6, 2])[0])\n",
    "print(clf.predict([6, 3])[0])\n",
    "print(clf.predict([6, 4])[0])"
   ]
  },
  {
   "cell_type": "markdown",
   "metadata": {},
   "source": [
    "From the data above, it cannot be accurately determined which house the ENTJ personality type should be placed into."
   ]
  },
  {
   "cell_type": "markdown",
   "metadata": {},
   "source": [
    "ENTP"
   ]
  },
  {
   "cell_type": "code",
   "execution_count": 22,
   "metadata": {
    "collapsed": false
   },
   "outputs": [
    {
     "name": "stdout",
     "output_type": "stream",
     "text": [
      "3.25035293798\n",
      "3.25987593372\n",
      "3.24026348426\n",
      "3.2397761595\n"
     ]
    }
   ],
   "source": [
    "print(clf.predict([7, 1])[0])\n",
    "print(clf.predict([7, 2])[0])\n",
    "print(clf.predict([7, 3])[0])\n",
    "print(clf.predict([7, 4])[0])"
   ]
  },
  {
   "cell_type": "markdown",
   "metadata": {},
   "source": [
    "From the data above, it cannot be accurately determined which house the ENTP personality type should be placed into."
   ]
  },
  {
   "cell_type": "markdown",
   "metadata": {},
   "source": [
    "INTP"
   ]
  },
  {
   "cell_type": "code",
   "execution_count": 23,
   "metadata": {
    "collapsed": false
   },
   "outputs": [
    {
     "name": "stdout",
     "output_type": "stream",
     "text": [
      "3.24990976396\n",
      "3.25035608718\n",
      "3.24990193656\n",
      "3.25043311699\n"
     ]
    }
   ],
   "source": [
    "print(clf.predict([8, 1])[0])\n",
    "print(clf.predict([8, 2])[0])\n",
    "print(clf.predict([8, 3])[0])\n",
    "print(clf.predict([8, 4])[0])"
   ]
  },
  {
   "cell_type": "markdown",
   "metadata": {},
   "source": [
    "From the data above, it cannot br accurately determined which house the INTP personality type should be placed into."
   ]
  },
  {
   "cell_type": "markdown",
   "metadata": {},
   "source": [
    "ESFJ"
   ]
  },
  {
   "cell_type": "code",
   "execution_count": 24,
   "metadata": {
    "collapsed": false
   },
   "outputs": [
    {
     "name": "stdout",
     "output_type": "stream",
     "text": [
      "3.25039463975\n",
      "3.24965293137\n",
      "3.24017997002\n",
      "3.24996680374\n"
     ]
    }
   ],
   "source": [
    "print(clf.predict([9, 1])[0])\n",
    "print(clf.predict([9, 2])[0])\n",
    "print(clf.predict([9, 3])[0])\n",
    "print(clf.predict([9, 4])[0])"
   ]
  },
  {
   "cell_type": "markdown",
   "metadata": {},
   "source": [
    "From the data above, it cannot be accurately determined which house the ESFJ personality type should be placed into."
   ]
  },
  {
   "cell_type": "markdown",
   "metadata": {},
   "source": [
    "ESFP"
   ]
  },
  {
   "cell_type": "code",
   "execution_count": 25,
   "metadata": {
    "collapsed": false
   },
   "outputs": [
    {
     "name": "stdout",
     "output_type": "stream",
     "text": [
      "3.75001635046\n",
      "3.24041120803\n",
      "3.24960334511\n",
      "3.26037062609\n"
     ]
    }
   ],
   "source": [
    "print(clf.predict([10, 1])[0])\n",
    "print(clf.predict([10, 2])[0])\n",
    "print(clf.predict([10, 3])[0])\n",
    "print(clf.predict([10, 4])[0])"
   ]
  },
  {
   "cell_type": "markdown",
   "metadata": {},
   "source": [
    "From the data above, it can be determined that the ESFP personality type should be placed in Gryffindor."
   ]
  },
  {
   "cell_type": "markdown",
   "metadata": {},
   "source": [
    "ISFJ"
   ]
  },
  {
   "cell_type": "code",
   "execution_count": 26,
   "metadata": {
    "collapsed": false
   },
   "outputs": [
    {
     "name": "stdout",
     "output_type": "stream",
     "text": [
      "3.25034635585\n",
      "3.74978993318\n",
      "3.25039686997\n",
      "3.24975656725\n"
     ]
    }
   ],
   "source": [
    "print(clf.predict([11, 1])[0])\n",
    "print(clf.predict([11, 2])[0])\n",
    "print(clf.predict([11, 3])[0])\n",
    "print(clf.predict([11, 4])[0])"
   ]
  },
  {
   "cell_type": "markdown",
   "metadata": {},
   "source": [
    "From the data above, it can be determined that the ISFJ personality type should be placed into Hufflepuff."
   ]
  },
  {
   "cell_type": "markdown",
   "metadata": {},
   "source": [
    "ISFP"
   ]
  },
  {
   "cell_type": "code",
   "execution_count": 27,
   "metadata": {
    "collapsed": false
   },
   "outputs": [
    {
     "name": "stdout",
     "output_type": "stream",
     "text": [
      "3.24973269059\n",
      "3.7503680472\n",
      "3.24988790305\n",
      "3.2503566456\n"
     ]
    }
   ],
   "source": [
    "print(clf.predict([12, 1])[0])\n",
    "print(clf.predict([12, 2])[0])\n",
    "print(clf.predict([12, 3])[0])\n",
    "print(clf.predict([12, 4])[0])"
   ]
  },
  {
   "cell_type": "markdown",
   "metadata": {},
   "source": [
    "From the data above, it can be determined that the ISFP personality type should be placed into Hufflepuff."
   ]
  },
  {
   "cell_type": "markdown",
   "metadata": {},
   "source": [
    "ESTJ"
   ]
  },
  {
   "cell_type": "code",
   "execution_count": 28,
   "metadata": {
    "collapsed": false
   },
   "outputs": [
    {
     "name": "stdout",
     "output_type": "stream",
     "text": [
      "3.2502415791\n",
      "3.24962971362\n",
      "3.25007805585\n",
      "3.24975135256\n"
     ]
    }
   ],
   "source": [
    "print(clf.predict([13, 1])[0])\n",
    "print(clf.predict([13, 2])[0])\n",
    "print(clf.predict([13, 3])[0])\n",
    "print(clf.predict([13, 4])[0])"
   ]
  },
  {
   "cell_type": "markdown",
   "metadata": {},
   "source": [
    "From the data above, it cannot be accurately determined which house the ESTJ personality should be placed into."
   ]
  },
  {
   "cell_type": "markdown",
   "metadata": {},
   "source": [
    "ESTP"
   ]
  },
  {
   "cell_type": "code",
   "execution_count": 29,
   "metadata": {
    "collapsed": false
   },
   "outputs": [
    {
     "name": "stdout",
     "output_type": "stream",
     "text": [
      "3.2499616654\n",
      "3.25023733291\n",
      "3.24946711576\n",
      "3.75021941452\n"
     ]
    }
   ],
   "source": [
    "print(clf.predict([14, 1])[0])\n",
    "print(clf.predict([14, 2])[0])\n",
    "print(clf.predict([14, 3])[0])\n",
    "print(clf.predict([14, 4])[0])"
   ]
  },
  {
   "cell_type": "markdown",
   "metadata": {},
   "source": [
    "From the data above, it can be determined that the ESTP personality type should be placed into Slytherin."
   ]
  },
  {
   "cell_type": "markdown",
   "metadata": {},
   "source": [
    "ISTJ"
   ]
  },
  {
   "cell_type": "code",
   "execution_count": 30,
   "metadata": {
    "collapsed": false
   },
   "outputs": [
    {
     "name": "stdout",
     "output_type": "stream",
     "text": [
      "3.26003704322\n",
      "3.24977828864\n",
      "3.25034629024\n",
      "3.24997224776\n"
     ]
    }
   ],
   "source": [
    "print(clf.predict([15, 1])[0])\n",
    "print(clf.predict([15, 2])[0])\n",
    "print(clf.predict([15, 3])[0])\n",
    "print(clf.predict([15, 4])[0])"
   ]
  },
  {
   "cell_type": "markdown",
   "metadata": {},
   "source": [
    "From the data above, it cannot be accurately determined which house the ISTJ personality type should be placed into."
   ]
  },
  {
   "cell_type": "markdown",
   "metadata": {},
   "source": [
    "ISTP"
   ]
  },
  {
   "cell_type": "code",
   "execution_count": 31,
   "metadata": {
    "collapsed": false
   },
   "outputs": [
    {
     "name": "stdout",
     "output_type": "stream",
     "text": [
      "3.24969623161\n",
      "3.25012753075\n",
      "3.74002690441\n",
      "3.25019786759\n"
     ]
    }
   ],
   "source": [
    "print(clf.predict([16, 1])[0])\n",
    "print(clf.predict([16, 2])[0])\n",
    "print(clf.predict([16, 3])[0])\n",
    "print(clf.predict([16, 4])[0])"
   ]
  },
  {
   "cell_type": "markdown",
   "metadata": {},
   "source": [
    "From the data above, it can be determined that the ISTP personality type should be placed into Ravenclaw."
   ]
  },
  {
   "cell_type": "code",
   "execution_count": null,
   "metadata": {
    "collapsed": true
   },
   "outputs": [],
   "source": []
  }
 ],
 "metadata": {
  "kernelspec": {
   "display_name": "Python 3",
   "language": "python",
   "name": "python3"
  },
  "language_info": {
   "codemirror_mode": {
    "name": "ipython",
    "version": 3
   },
   "file_extension": ".py",
   "mimetype": "text/x-python",
   "name": "python",
   "nbconvert_exporter": "python",
   "pygments_lexer": "ipython3",
   "version": "3.5.0"
  }
 },
 "nbformat": 4,
 "nbformat_minor": 0
}
