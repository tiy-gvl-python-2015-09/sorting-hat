{
 "cells": [
  {
   "cell_type": "code",
   "execution_count": 1,
   "metadata": {
    "collapsed": false
   },
   "outputs": [
    {
     "name": "stderr",
     "output_type": "stream",
     "text": [
      "/Users/ZSeaborn/Desktop/Homework/sorting-hat/.direnv/python-3.5.0/lib/python3.5/site-packages/sklearn/utils/fixes.py:64: DeprecationWarning: inspect.getargspec() is deprecated, use inspect.signature() instead\n",
      "  if 'order' in inspect.getargspec(np.copy)[0]:\n"
     ]
    }
   ],
   "source": [
    "import pandas as pd\n",
    "from sklearn.naive_bayes import GaussianNB\n",
    "import numpy as np\n",
    "import itertools"
   ]
  },
  {
   "cell_type": "code",
   "execution_count": 2,
   "metadata": {
    "collapsed": false
   },
   "outputs": [],
   "source": [
    "train = pd.read_csv(\"data/20151014211444871487_dataset.csv\", names=[\"Name\", \"Personality\", \"Year\", \"House\", \"GPA\"])"
   ]
  },
  {
   "cell_type": "code",
   "execution_count": 3,
   "metadata": {
    "collapsed": true
   },
   "outputs": [],
   "source": [
    "house_dict = {\"Gryffindor\": 1.00, \"Hufflepuff\": 2.00, \"Ravenclaw\": 3.00, \"Slytherin\": 4.00}\n",
    "personality_dict = {\n",
    "    \"INFP\": 1.00,\n",
    "    \"INFJ\": 2.00,\n",
    "    \"ENFJ\": 3.00,\n",
    "    \"ENFP\": 4.00,\n",
    "    \"INTJ\": 5.00,\n",
    "    \"ENTJ\": 6.00,\n",
    "    \"ENTP\": 7.00,\n",
    "    \"INTP\": 8.00,\n",
    "    \"ESFJ\": 9.00,\n",
    "    \"ESFP\": 10.00,\n",
    "    \"ISFJ\": 11.00,\n",
    "    \"ISFP\": 12.00,\n",
    "    \"ESTJ\": 13.00, \n",
    "    \"ESTP\": 14.00, \n",
    "    \"ISTJ\": 15.00, \n",
    "    \"ISTP\": 16.00    \n",
    "}"
   ]
  },
  {
   "cell_type": "code",
   "execution_count": null,
   "metadata": {
    "collapsed": false
   },
   "outputs": [],
   "source": [
    "train.head()\n",
    "# Use Personality and House to predict GPA\n",
    "# Highest GPA is the goal"
   ]
  },
  {
   "cell_type": "code",
   "execution_count": null,
   "metadata": {
    "collapsed": false
   },
   "outputs": [],
   "source": [
    "train.Personality = train.Personality.map(personality_dict)\n",
    "train.House = train.House.map(house_dict)"
   ]
  },
  {
   "cell_type": "code",
   "execution_count": null,
   "metadata": {
    "collapsed": false
   },
   "outputs": [],
   "source": [
    "type(train.House[9])"
   ]
  },
  {
   "cell_type": "code",
   "execution_count": null,
   "metadata": {
    "collapsed": false
   },
   "outputs": [],
   "source": [
    "def truncate(floats):\n",
    "    return float(\"{0:.2f}\".format(floats))\n",
    "train.GPA = train.GPA.map(truncate)\n",
    "# works, but doesn't allow gnb.fit() to work"
   ]
  },
  {
   "cell_type": "code",
   "execution_count": null,
   "metadata": {
    "collapsed": false
   },
   "outputs": [],
   "source": [
    "#train.Personality = train.Personality.map(float())\n",
    "#train.House = float(train.House.values)"
   ]
  },
  {
   "cell_type": "code",
   "execution_count": null,
   "metadata": {
    "collapsed": false
   },
   "outputs": [],
   "source": [
    "train.head()"
   ]
  },
  {
   "cell_type": "code",
   "execution_count": null,
   "metadata": {
    "collapsed": false
   },
   "outputs": [],
   "source": [
    "def pick_house(df, got, want):\n",
    "    gnb1 = GaussianNB()\n",
    "    gnb1.fit(got, want)\n",
    "    gpa_by_house = []\n",
    "    for row in df:\n",
    "        for y in range(1,5):\n",
    "            hhy = gnb1.predict([df.Personality, y])[0]\n",
    "            gpa_by_house.append(hhy, y)\n",
    "    best = sorted(gpa_by_hosue[0], key=lambda x: x[1])[-1]\n",
    "    return best[1]"
   ]
  },
  {
   "cell_type": "code",
   "execution_count": 5,
   "metadata": {
    "collapsed": false
   },
   "outputs": [],
   "source": [
    "gnb = GaussianNB()"
   ]
  },
  {
   "cell_type": "code",
   "execution_count": null,
   "metadata": {
    "collapsed": false
   },
   "outputs": [],
   "source": [
    "factors = train[[\"Personality\", \"House\"]]\n",
    "gpa = np.asarray(train[\"GPA\"], dtype=\"|S6\")"
   ]
  },
  {
   "cell_type": "code",
   "execution_count": null,
   "metadata": {
    "collapsed": false
   },
   "outputs": [],
   "source": [
    "gnb.fit(factors, gpa)"
   ]
  },
  {
   "cell_type": "code",
   "execution_count": null,
   "metadata": {
    "collapsed": false
   },
   "outputs": [],
   "source": [
    "gnb.predict([1, 3])[0]"
   ]
  },
  {
   "cell_type": "code",
   "execution_count": null,
   "metadata": {
    "collapsed": false
   },
   "outputs": [],
   "source": [
    "type(gpa)"
   ]
  },
  {
   "cell_type": "code",
   "execution_count": null,
   "metadata": {
    "collapsed": false
   },
   "outputs": [],
   "source": [
    "test = pd.read_csv(\"data/20151014211444871487_students_2016.csv\", names=[\"Name\", \"Personality\", \"Year\"])"
   ]
  },
  {
   "cell_type": "code",
   "execution_count": null,
   "metadata": {
    "collapsed": true
   },
   "outputs": [],
   "source": [
    "test.Personality = test.Personality.map(personality_dict)"
   ]
  },
  {
   "cell_type": "code",
   "execution_count": null,
   "metadata": {
    "collapsed": false
   },
   "outputs": [],
   "source": [
    "test = test.drop(test.Year == 7)"
   ]
  },
  {
   "cell_type": "code",
   "execution_count": null,
   "metadata": {
    "collapsed": false
   },
   "outputs": [],
   "source": [
    "test.head()"
   ]
  },
  {
   "cell_type": "code",
   "execution_count": null,
   "metadata": {
    "collapsed": false
   },
   "outputs": [],
   "source": [
    "test[\"House\"] = pick_house(test, factors, gpa)"
   ]
  },
  {
   "cell_type": "code",
   "execution_count": null,
   "metadata": {
    "collapsed": false
   },
   "outputs": [],
   "source": [
    "dependent_vars = list(train.House.nunique())"
   ]
  },
  {
   "cell_type": "code",
   "execution_count": null,
   "metadata": {
    "collapsed": false
   },
   "outputs": [],
   "source": [
    "type(train.House)"
   ]
  },
  {
   "cell_type": "code",
   "execution_count": 6,
   "metadata": {
    "collapsed": true
   },
   "outputs": [],
   "source": [
    "maybe = train"
   ]
  },
  {
   "cell_type": "code",
   "execution_count": null,
   "metadata": {
    "collapsed": false
   },
   "outputs": [],
   "source": [
    "maybe.head()"
   ]
  },
  {
   "cell_type": "code",
   "execution_count": 7,
   "metadata": {
    "collapsed": false
   },
   "outputs": [],
   "source": [
    "maybe = maybe.drop([\"Name\", \"Year\"], axis=1)"
   ]
  },
  {
   "cell_type": "code",
   "execution_count": 8,
   "metadata": {
    "collapsed": false
   },
   "outputs": [],
   "source": [
    "maybe = pd.get_dummies(maybe, [\"House\", \"Personality\"])"
   ]
  },
  {
   "cell_type": "code",
   "execution_count": 9,
   "metadata": {
    "collapsed": false
   },
   "outputs": [
    {
     "data": {
      "text/plain": [
       "Index(['GPA', 'House_ENFJ', 'House_ENFP', 'House_ENTJ', 'House_ENTP',\n",
       "       'House_ESFJ', 'House_ESFP', 'House_ESTJ', 'House_ESTP', 'House_INFJ',\n",
       "       'House_INFP', 'House_INTJ', 'House_INTP', 'House_ISFJ', 'House_ISFP',\n",
       "       'House_ISTJ', 'House_ISTP', 'Personality_Gryffindor',\n",
       "       'Personality_Hufflepuff', 'Personality_Ravenclaw',\n",
       "       'Personality_Slytherin'],\n",
       "      dtype='object')"
      ]
     },
     "execution_count": 9,
     "metadata": {},
     "output_type": "execute_result"
    }
   ],
   "source": [
    "maybe.columns"
   ]
  },
  {
   "cell_type": "code",
   "execution_count": 10,
   "metadata": {
    "collapsed": false
   },
   "outputs": [],
   "source": [
    "dependant_vars = list(maybe.columns)"
   ]
  },
  {
   "cell_type": "code",
   "execution_count": 11,
   "metadata": {
    "collapsed": true
   },
   "outputs": [],
   "source": [
    "dependant_vars.remove(\"GPA\")"
   ]
  },
  {
   "cell_type": "code",
   "execution_count": null,
   "metadata": {
    "collapsed": false
   },
   "outputs": [],
   "source": [
    "print(dependant_vars)"
   ]
  },
  {
   "cell_type": "code",
   "execution_count": 12,
   "metadata": {
    "collapsed": false
   },
   "outputs": [],
   "source": [
    "combos = list(itertools.combinations(dependant_vars, 2))"
   ]
  },
  {
   "cell_type": "code",
   "execution_count": 13,
   "metadata": {
    "collapsed": false
   },
   "outputs": [],
   "source": [
    "del combos[0:14]"
   ]
  },
  {
   "cell_type": "code",
   "execution_count": 14,
   "metadata": {
    "collapsed": false
   },
   "outputs": [],
   "source": [
    "del combos[0]"
   ]
  },
  {
   "cell_type": "code",
   "execution_count": 15,
   "metadata": {
    "collapsed": false
   },
   "outputs": [],
   "source": [
    "del combos[4:16]"
   ]
  },
  {
   "cell_type": "code",
   "execution_count": 16,
   "metadata": {
    "collapsed": true
   },
   "outputs": [],
   "source": [
    "del combos[4:6]"
   ]
  },
  {
   "cell_type": "code",
   "execution_count": 17,
   "metadata": {
    "collapsed": false
   },
   "outputs": [],
   "source": [
    "del combos[8:20]"
   ]
  },
  {
   "cell_type": "code",
   "execution_count": 18,
   "metadata": {
    "collapsed": false
   },
   "outputs": [],
   "source": [
    "del combos[8]"
   ]
  },
  {
   "cell_type": "code",
   "execution_count": 19,
   "metadata": {
    "collapsed": true
   },
   "outputs": [],
   "source": [
    "del combos[12:23]"
   ]
  },
  {
   "cell_type": "code",
   "execution_count": 20,
   "metadata": {
    "collapsed": true
   },
   "outputs": [],
   "source": [
    "del combos[12]"
   ]
  },
  {
   "cell_type": "code",
   "execution_count": 21,
   "metadata": {
    "collapsed": true
   },
   "outputs": [],
   "source": [
    "del combos[16:26]"
   ]
  },
  {
   "cell_type": "code",
   "execution_count": 22,
   "metadata": {
    "collapsed": true
   },
   "outputs": [],
   "source": [
    "del combos[16]"
   ]
  },
  {
   "cell_type": "code",
   "execution_count": 23,
   "metadata": {
    "collapsed": true
   },
   "outputs": [],
   "source": [
    "del combos[20:30]"
   ]
  },
  {
   "cell_type": "code",
   "execution_count": 24,
   "metadata": {
    "collapsed": true
   },
   "outputs": [],
   "source": [
    "del combos[24:33]"
   ]
  },
  {
   "cell_type": "code",
   "execution_count": 25,
   "metadata": {
    "collapsed": true
   },
   "outputs": [],
   "source": [
    "del combos[28:36]"
   ]
  },
  {
   "cell_type": "code",
   "execution_count": 26,
   "metadata": {
    "collapsed": true
   },
   "outputs": [],
   "source": [
    "del combos[32:39]"
   ]
  },
  {
   "cell_type": "code",
   "execution_count": 27,
   "metadata": {
    "collapsed": true
   },
   "outputs": [],
   "source": [
    "del combos[36:42]"
   ]
  },
  {
   "cell_type": "code",
   "execution_count": 28,
   "metadata": {
    "collapsed": true
   },
   "outputs": [],
   "source": [
    "del combos[40:45]"
   ]
  },
  {
   "cell_type": "code",
   "execution_count": 29,
   "metadata": {
    "collapsed": true
   },
   "outputs": [],
   "source": [
    "del combos[44:48]"
   ]
  },
  {
   "cell_type": "code",
   "execution_count": 30,
   "metadata": {
    "collapsed": true
   },
   "outputs": [],
   "source": [
    "del combos[48:51]"
   ]
  },
  {
   "cell_type": "code",
   "execution_count": 31,
   "metadata": {
    "collapsed": true
   },
   "outputs": [],
   "source": [
    "del combos[52: 54]"
   ]
  },
  {
   "cell_type": "code",
   "execution_count": 32,
   "metadata": {
    "collapsed": true
   },
   "outputs": [],
   "source": [
    "del combos[56]"
   ]
  },
  {
   "cell_type": "code",
   "execution_count": 39,
   "metadata": {
    "collapsed": true
   },
   "outputs": [],
   "source": [
    "del combos[-1]"
   ]
  },
  {
   "cell_type": "code",
   "execution_count": 40,
   "metadata": {
    "collapsed": false
   },
   "outputs": [
    {
     "data": {
      "text/plain": [
       "[('House_ENFJ', 'Personality_Gryffindor'),\n",
       " ('House_ENFJ', 'Personality_Hufflepuff'),\n",
       " ('House_ENFJ', 'Personality_Ravenclaw'),\n",
       " ('House_ENFJ', 'Personality_Slytherin'),\n",
       " ('House_ENFP', 'Personality_Gryffindor'),\n",
       " ('House_ENFP', 'Personality_Hufflepuff'),\n",
       " ('House_ENFP', 'Personality_Ravenclaw'),\n",
       " ('House_ENFP', 'Personality_Slytherin'),\n",
       " ('House_ENTJ', 'Personality_Gryffindor'),\n",
       " ('House_ENTJ', 'Personality_Hufflepuff'),\n",
       " ('House_ENTJ', 'Personality_Ravenclaw'),\n",
       " ('House_ENTJ', 'Personality_Slytherin'),\n",
       " ('House_ENTP', 'Personality_Gryffindor'),\n",
       " ('House_ENTP', 'Personality_Hufflepuff'),\n",
       " ('House_ENTP', 'Personality_Ravenclaw'),\n",
       " ('House_ENTP', 'Personality_Slytherin'),\n",
       " ('House_ESFJ', 'Personality_Gryffindor'),\n",
       " ('House_ESFJ', 'Personality_Hufflepuff'),\n",
       " ('House_ESFJ', 'Personality_Ravenclaw'),\n",
       " ('House_ESFJ', 'Personality_Slytherin'),\n",
       " ('House_ESFP', 'Personality_Gryffindor'),\n",
       " ('House_ESFP', 'Personality_Hufflepuff'),\n",
       " ('House_ESFP', 'Personality_Ravenclaw'),\n",
       " ('House_ESFP', 'Personality_Slytherin'),\n",
       " ('House_ESTJ', 'Personality_Gryffindor'),\n",
       " ('House_ESTJ', 'Personality_Hufflepuff'),\n",
       " ('House_ESTJ', 'Personality_Ravenclaw'),\n",
       " ('House_ESTJ', 'Personality_Slytherin'),\n",
       " ('House_ESTP', 'Personality_Gryffindor'),\n",
       " ('House_ESTP', 'Personality_Hufflepuff'),\n",
       " ('House_ESTP', 'Personality_Ravenclaw'),\n",
       " ('House_ESTP', 'Personality_Slytherin'),\n",
       " ('House_INFJ', 'Personality_Gryffindor'),\n",
       " ('House_INFJ', 'Personality_Hufflepuff'),\n",
       " ('House_INFJ', 'Personality_Ravenclaw'),\n",
       " ('House_INFJ', 'Personality_Slytherin'),\n",
       " ('House_INFP', 'Personality_Gryffindor'),\n",
       " ('House_INFP', 'Personality_Hufflepuff'),\n",
       " ('House_INFP', 'Personality_Ravenclaw'),\n",
       " ('House_INFP', 'Personality_Slytherin'),\n",
       " ('House_INTJ', 'Personality_Gryffindor'),\n",
       " ('House_INTJ', 'Personality_Hufflepuff'),\n",
       " ('House_INTJ', 'Personality_Ravenclaw'),\n",
       " ('House_INTJ', 'Personality_Slytherin'),\n",
       " ('House_INTP', 'Personality_Gryffindor'),\n",
       " ('House_INTP', 'Personality_Hufflepuff'),\n",
       " ('House_INTP', 'Personality_Ravenclaw'),\n",
       " ('House_INTP', 'Personality_Slytherin'),\n",
       " ('House_ISFJ', 'Personality_Gryffindor'),\n",
       " ('House_ISFJ', 'Personality_Hufflepuff'),\n",
       " ('House_ISFJ', 'Personality_Ravenclaw'),\n",
       " ('House_ISFJ', 'Personality_Slytherin'),\n",
       " ('House_ISFP', 'Personality_Gryffindor'),\n",
       " ('House_ISFP', 'Personality_Hufflepuff'),\n",
       " ('House_ISFP', 'Personality_Ravenclaw'),\n",
       " ('House_ISFP', 'Personality_Slytherin'),\n",
       " ('House_ISTJ', 'Personality_Gryffindor'),\n",
       " ('House_ISTJ', 'Personality_Hufflepuff'),\n",
       " ('House_ISTJ', 'Personality_Ravenclaw'),\n",
       " ('House_ISTJ', 'Personality_Slytherin'),\n",
       " ('House_ISTP', 'Personality_Gryffindor'),\n",
       " ('House_ISTP', 'Personality_Hufflepuff'),\n",
       " ('House_ISTP', 'Personality_Ravenclaw'),\n",
       " ('House_ISTP', 'Personality_Slytherin')]"
      ]
     },
     "execution_count": 40,
     "metadata": {},
     "output_type": "execute_result"
    }
   ],
   "source": [
    "combos"
   ]
  },
  {
   "cell_type": "code",
   "execution_count": null,
   "metadata": {
    "collapsed": false
   },
   "outputs": [],
   "source": [
    "gpa = np.asarray(maybe[\"GPA\"], dtype=\"|S6\")"
   ]
  },
  {
   "cell_type": "code",
   "execution_count": null,
   "metadata": {
    "collapsed": false
   },
   "outputs": [],
   "source": [
    "variables = maybe.drop([\"GPA\"], axis = 1)"
   ]
  },
  {
   "cell_type": "code",
   "execution_count": null,
   "metadata": {
    "collapsed": false
   },
   "outputs": [],
   "source": [
    "gnb.fit(variables, gpa)"
   ]
  },
  {
   "cell_type": "code",
   "execution_count": 41,
   "metadata": {
    "collapsed": true
   },
   "outputs": [],
   "source": [
    "def regression_for(combo):\n",
    "    combo = list(combo)\n",
    "    df = maybe.loc[:, combo + ['GPA']]\n",
    "    input_data = df[combo]\n",
    "    gpa_ = np.asarray(df[\"GPA\"], dtype=\"|S6\")\n",
    "    gnb = GaussianNB()\n",
    "    gnb.fit(input_data, gpa_)\n",
    "    return combo, gnb.predict(input_data)[0]"
   ]
  },
  {
   "cell_type": "code",
   "execution_count": 42,
   "metadata": {
    "collapsed": false
   },
   "outputs": [],
   "source": [
    "def run_vars_num(combos):\n",
    "    choices = []\n",
    "    for combo in combos:\n",
    "        combo, gpa_p = regression_for(combo)\n",
    "        choices.append((combo, score))\n",
    "    best = sorted(choices, key=lambda x: x[1])[-1]\n",
    "    #print(best)\n",
    "    #combo, score = regression_for(best[0])\n",
    "    #print(regr.coef_, regr.intercept_)\n",
    "    print(choices)"
   ]
  },
  {
   "cell_type": "code",
   "execution_count": null,
   "metadata": {
    "collapsed": true
   },
   "outputs": [],
   "source": [
    "run_vars_num(combos)"
   ]
  },
  {
   "cell_type": "code",
   "execution_count": null,
   "metadata": {
    "collapsed": true
   },
   "outputs": [],
   "source": []
  }
 ],
 "metadata": {
  "kernelspec": {
   "display_name": "Python 3",
   "language": "python",
   "name": "python3"
  },
  "language_info": {
   "codemirror_mode": {
    "name": "ipython",
    "version": 3
   },
   "file_extension": ".py",
   "mimetype": "text/x-python",
   "name": "python",
   "nbconvert_exporter": "python",
   "pygments_lexer": "ipython3",
   "version": "3.5.0"
  }
 },
 "nbformat": 4,
 "nbformat_minor": 0
}
