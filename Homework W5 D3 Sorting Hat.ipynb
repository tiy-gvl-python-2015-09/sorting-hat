{
 "cells": [
  {
   "cell_type": "code",
   "execution_count": 2,
   "metadata": {
    "collapsed": false
   },
   "outputs": [
    {
     "name": "stderr",
     "output_type": "stream",
     "text": [
      "/Users/abarringer/new_python/.direnv/python-3.5.0/lib/python3.5/site-packages/sklearn/utils/fixes.py:64: DeprecationWarning: inspect.getargspec() is deprecated, use inspect.signature() instead\n",
      "  if 'order' in inspect.getargspec(np.copy)[0]:\n"
     ]
    }
   ],
   "source": [
    "import pandas as pd\n",
    "import seaborn as sns\n",
    "import numpy as np\n",
    "from sklearn import naive_bayes\n",
    "from sklearn import cross_validation\n",
    "from sklearn import linear_model\n",
    "import matplotlib.pyplot as plt"
   ]
  },
  {
   "cell_type": "code",
   "execution_count": 3,
   "metadata": {
    "collapsed": false
   },
   "outputs": [],
   "source": [
    "students_df = pd.read_csv(\"data/20151014211444871504_dataset.csv\", header=None, names=[\"name\", \"mbtype\", \"year\",\n",
    "                                                                                       \"house\", \"gpa\"])"
   ]
  },
  {
   "cell_type": "code",
   "execution_count": 4,
   "metadata": {
    "collapsed": false
   },
   "outputs": [],
   "source": [
    "students_df[\"house_num\"] = students_df.house.map({\"Gryffindor\": 1, \"Hufflepuff\": 2, \"Ravenclaw\": 3, \"Slytherin\": 4})"
   ]
  },
  {
   "cell_type": "code",
   "execution_count": 4,
   "metadata": {
    "collapsed": false
   },
   "outputs": [],
   "source": [
    "#students_df[\"type_num\"] = students_df.mbtype.map({'ENFJ': 1, 'ISTJ': 15, 'ESTJ': 7, 'ENFP': 2, 'INTJ': 11, 'ENTP': 4,\n",
    "                                                 # 'ISTP': 16, 'INTP': 12, 'ENTJ': 3, 'ISFJ': 13, 'ISFP': 14, 'ESFP': 6,\n",
    "                                                 # 'INFP': 10, 'INFJ': 9, 'ESTP': 8, 'ESFJ': 5})"
   ]
  },
  {
   "cell_type": "code",
   "execution_count": null,
   "metadata": {
    "collapsed": false
   },
   "outputs": [],
   "source": [
    "#students_df[\"gpa\"] = np.round(students_df[\"gpa\"], decimals=2)"
   ]
  },
  {
   "cell_type": "code",
   "execution_count": 7,
   "metadata": {
    "collapsed": false
   },
   "outputs": [],
   "source": [
    "new_df = pd.get_dummies(students_df, columns=[\"mbtype\"])"
   ]
  },
  {
   "cell_type": "code",
   "execution_count": 8,
   "metadata": {
    "collapsed": false
   },
   "outputs": [],
   "source": [
    "new_df[\"high_gpa\"] = 0"
   ]
  },
  {
   "cell_type": "code",
   "execution_count": 10,
   "metadata": {
    "collapsed": false
   },
   "outputs": [],
   "source": [
    "new_df.loc[new_df[\"gpa\"] > 3.4, \"high_gpa\"] = 1"
   ]
  },
  {
   "cell_type": "code",
   "execution_count": 11,
   "metadata": {
    "collapsed": false
   },
   "outputs": [
    {
     "data": {
      "text/html": [
       "<div>\n",
       "<table border=\"1\" class=\"dataframe\">\n",
       "  <thead>\n",
       "    <tr style=\"text-align: right;\">\n",
       "      <th></th>\n",
       "      <th>name</th>\n",
       "      <th>year</th>\n",
       "      <th>house</th>\n",
       "      <th>gpa</th>\n",
       "      <th>house_num</th>\n",
       "      <th>mbtype_ENFJ</th>\n",
       "      <th>mbtype_ENFP</th>\n",
       "      <th>mbtype_ENTJ</th>\n",
       "      <th>mbtype_ENTP</th>\n",
       "      <th>mbtype_ESFJ</th>\n",
       "      <th>...</th>\n",
       "      <th>mbtype_ESTP</th>\n",
       "      <th>mbtype_INFJ</th>\n",
       "      <th>mbtype_INFP</th>\n",
       "      <th>mbtype_INTJ</th>\n",
       "      <th>mbtype_INTP</th>\n",
       "      <th>mbtype_ISFJ</th>\n",
       "      <th>mbtype_ISFP</th>\n",
       "      <th>mbtype_ISTJ</th>\n",
       "      <th>mbtype_ISTP</th>\n",
       "      <th>high_gpa</th>\n",
       "    </tr>\n",
       "  </thead>\n",
       "  <tbody>\n",
       "    <tr>\n",
       "      <th>0</th>\n",
       "      <td>Viktor Jigger</td>\n",
       "      <td>1</td>\n",
       "      <td>Ravenclaw</td>\n",
       "      <td>3.090201</td>\n",
       "      <td>3</td>\n",
       "      <td>0</td>\n",
       "      <td>0</td>\n",
       "      <td>1</td>\n",
       "      <td>0</td>\n",
       "      <td>0</td>\n",
       "      <td>...</td>\n",
       "      <td>0</td>\n",
       "      <td>0</td>\n",
       "      <td>0</td>\n",
       "      <td>0</td>\n",
       "      <td>0</td>\n",
       "      <td>0</td>\n",
       "      <td>0</td>\n",
       "      <td>0</td>\n",
       "      <td>0</td>\n",
       "      <td>0</td>\n",
       "    </tr>\n",
       "    <tr>\n",
       "      <th>1</th>\n",
       "      <td>Viktor Jigger</td>\n",
       "      <td>2</td>\n",
       "      <td>Gryffindor</td>\n",
       "      <td>3.350920</td>\n",
       "      <td>1</td>\n",
       "      <td>0</td>\n",
       "      <td>0</td>\n",
       "      <td>1</td>\n",
       "      <td>0</td>\n",
       "      <td>0</td>\n",
       "      <td>...</td>\n",
       "      <td>0</td>\n",
       "      <td>0</td>\n",
       "      <td>0</td>\n",
       "      <td>0</td>\n",
       "      <td>0</td>\n",
       "      <td>0</td>\n",
       "      <td>0</td>\n",
       "      <td>0</td>\n",
       "      <td>0</td>\n",
       "      <td>0</td>\n",
       "    </tr>\n",
       "    <tr>\n",
       "      <th>2</th>\n",
       "      <td>Viktor Jigger</td>\n",
       "      <td>3</td>\n",
       "      <td>Hufflepuff</td>\n",
       "      <td>3.275955</td>\n",
       "      <td>2</td>\n",
       "      <td>0</td>\n",
       "      <td>0</td>\n",
       "      <td>1</td>\n",
       "      <td>0</td>\n",
       "      <td>0</td>\n",
       "      <td>...</td>\n",
       "      <td>0</td>\n",
       "      <td>0</td>\n",
       "      <td>0</td>\n",
       "      <td>0</td>\n",
       "      <td>0</td>\n",
       "      <td>0</td>\n",
       "      <td>0</td>\n",
       "      <td>0</td>\n",
       "      <td>0</td>\n",
       "      <td>0</td>\n",
       "    </tr>\n",
       "    <tr>\n",
       "      <th>3</th>\n",
       "      <td>Viktor Jigger</td>\n",
       "      <td>4</td>\n",
       "      <td>Gryffindor</td>\n",
       "      <td>3.388890</td>\n",
       "      <td>1</td>\n",
       "      <td>0</td>\n",
       "      <td>0</td>\n",
       "      <td>1</td>\n",
       "      <td>0</td>\n",
       "      <td>0</td>\n",
       "      <td>...</td>\n",
       "      <td>0</td>\n",
       "      <td>0</td>\n",
       "      <td>0</td>\n",
       "      <td>0</td>\n",
       "      <td>0</td>\n",
       "      <td>0</td>\n",
       "      <td>0</td>\n",
       "      <td>0</td>\n",
       "      <td>0</td>\n",
       "      <td>0</td>\n",
       "    </tr>\n",
       "    <tr>\n",
       "      <th>4</th>\n",
       "      <td>Viktor Jigger</td>\n",
       "      <td>5</td>\n",
       "      <td>Gryffindor</td>\n",
       "      <td>3.486965</td>\n",
       "      <td>1</td>\n",
       "      <td>0</td>\n",
       "      <td>0</td>\n",
       "      <td>1</td>\n",
       "      <td>0</td>\n",
       "      <td>0</td>\n",
       "      <td>...</td>\n",
       "      <td>0</td>\n",
       "      <td>0</td>\n",
       "      <td>0</td>\n",
       "      <td>0</td>\n",
       "      <td>0</td>\n",
       "      <td>0</td>\n",
       "      <td>0</td>\n",
       "      <td>0</td>\n",
       "      <td>0</td>\n",
       "      <td>1</td>\n",
       "    </tr>\n",
       "  </tbody>\n",
       "</table>\n",
       "<p>5 rows × 22 columns</p>\n",
       "</div>"
      ],
      "text/plain": [
       "            name  year       house       gpa  house_num  mbtype_ENFJ  \\\n",
       "0  Viktor Jigger     1   Ravenclaw  3.090201          3            0   \n",
       "1  Viktor Jigger     2  Gryffindor  3.350920          1            0   \n",
       "2  Viktor Jigger     3  Hufflepuff  3.275955          2            0   \n",
       "3  Viktor Jigger     4  Gryffindor  3.388890          1            0   \n",
       "4  Viktor Jigger     5  Gryffindor  3.486965          1            0   \n",
       "\n",
       "   mbtype_ENFP  mbtype_ENTJ  mbtype_ENTP  mbtype_ESFJ    ...     mbtype_ESTP  \\\n",
       "0            0            1            0            0    ...               0   \n",
       "1            0            1            0            0    ...               0   \n",
       "2            0            1            0            0    ...               0   \n",
       "3            0            1            0            0    ...               0   \n",
       "4            0            1            0            0    ...               0   \n",
       "\n",
       "   mbtype_INFJ  mbtype_INFP  mbtype_INTJ  mbtype_INTP  mbtype_ISFJ  \\\n",
       "0            0            0            0            0            0   \n",
       "1            0            0            0            0            0   \n",
       "2            0            0            0            0            0   \n",
       "3            0            0            0            0            0   \n",
       "4            0            0            0            0            0   \n",
       "\n",
       "   mbtype_ISFP  mbtype_ISTJ  mbtype_ISTP  high_gpa  \n",
       "0            0            0            0         0  \n",
       "1            0            0            0         0  \n",
       "2            0            0            0         0  \n",
       "3            0            0            0         0  \n",
       "4            0            0            0         1  \n",
       "\n",
       "[5 rows x 22 columns]"
      ]
     },
     "execution_count": 11,
     "metadata": {},
     "output_type": "execute_result"
    }
   ],
   "source": [
    "new_df.head()"
   ]
  },
  {
   "cell_type": "code",
   "execution_count": 27,
   "metadata": {
    "collapsed": false
   },
   "outputs": [],
   "source": [
    "new_vars = new_df.drop([\"name\", \"year\", \"house\", \"house_num\"], axis=1)"
   ]
  },
  {
   "cell_type": "code",
   "execution_count": 32,
   "metadata": {
    "collapsed": false
   },
   "outputs": [
    {
     "data": {
      "text/html": [
       "<div>\n",
       "<table border=\"1\" class=\"dataframe\">\n",
       "  <thead>\n",
       "    <tr style=\"text-align: right;\">\n",
       "      <th></th>\n",
       "      <th>gpa</th>\n",
       "      <th>mbtype_ENFJ</th>\n",
       "      <th>mbtype_ENFP</th>\n",
       "      <th>mbtype_ENTJ</th>\n",
       "      <th>mbtype_ENTP</th>\n",
       "      <th>mbtype_ESFJ</th>\n",
       "      <th>mbtype_ESFP</th>\n",
       "      <th>mbtype_ESTJ</th>\n",
       "      <th>mbtype_ESTP</th>\n",
       "      <th>mbtype_INFJ</th>\n",
       "      <th>mbtype_INFP</th>\n",
       "      <th>mbtype_INTJ</th>\n",
       "      <th>mbtype_INTP</th>\n",
       "      <th>mbtype_ISFJ</th>\n",
       "      <th>mbtype_ISFP</th>\n",
       "      <th>mbtype_ISTJ</th>\n",
       "      <th>mbtype_ISTP</th>\n",
       "      <th>high_gpa</th>\n",
       "    </tr>\n",
       "  </thead>\n",
       "  <tbody>\n",
       "    <tr>\n",
       "      <th>0</th>\n",
       "      <td>3.090201</td>\n",
       "      <td>0</td>\n",
       "      <td>0</td>\n",
       "      <td>1</td>\n",
       "      <td>0</td>\n",
       "      <td>0</td>\n",
       "      <td>0</td>\n",
       "      <td>0</td>\n",
       "      <td>0</td>\n",
       "      <td>0</td>\n",
       "      <td>0</td>\n",
       "      <td>0</td>\n",
       "      <td>0</td>\n",
       "      <td>0</td>\n",
       "      <td>0</td>\n",
       "      <td>0</td>\n",
       "      <td>0</td>\n",
       "      <td>0</td>\n",
       "    </tr>\n",
       "    <tr>\n",
       "      <th>1</th>\n",
       "      <td>3.350920</td>\n",
       "      <td>0</td>\n",
       "      <td>0</td>\n",
       "      <td>1</td>\n",
       "      <td>0</td>\n",
       "      <td>0</td>\n",
       "      <td>0</td>\n",
       "      <td>0</td>\n",
       "      <td>0</td>\n",
       "      <td>0</td>\n",
       "      <td>0</td>\n",
       "      <td>0</td>\n",
       "      <td>0</td>\n",
       "      <td>0</td>\n",
       "      <td>0</td>\n",
       "      <td>0</td>\n",
       "      <td>0</td>\n",
       "      <td>0</td>\n",
       "    </tr>\n",
       "    <tr>\n",
       "      <th>2</th>\n",
       "      <td>3.275955</td>\n",
       "      <td>0</td>\n",
       "      <td>0</td>\n",
       "      <td>1</td>\n",
       "      <td>0</td>\n",
       "      <td>0</td>\n",
       "      <td>0</td>\n",
       "      <td>0</td>\n",
       "      <td>0</td>\n",
       "      <td>0</td>\n",
       "      <td>0</td>\n",
       "      <td>0</td>\n",
       "      <td>0</td>\n",
       "      <td>0</td>\n",
       "      <td>0</td>\n",
       "      <td>0</td>\n",
       "      <td>0</td>\n",
       "      <td>0</td>\n",
       "    </tr>\n",
       "    <tr>\n",
       "      <th>3</th>\n",
       "      <td>3.388890</td>\n",
       "      <td>0</td>\n",
       "      <td>0</td>\n",
       "      <td>1</td>\n",
       "      <td>0</td>\n",
       "      <td>0</td>\n",
       "      <td>0</td>\n",
       "      <td>0</td>\n",
       "      <td>0</td>\n",
       "      <td>0</td>\n",
       "      <td>0</td>\n",
       "      <td>0</td>\n",
       "      <td>0</td>\n",
       "      <td>0</td>\n",
       "      <td>0</td>\n",
       "      <td>0</td>\n",
       "      <td>0</td>\n",
       "      <td>0</td>\n",
       "    </tr>\n",
       "    <tr>\n",
       "      <th>4</th>\n",
       "      <td>3.486965</td>\n",
       "      <td>0</td>\n",
       "      <td>0</td>\n",
       "      <td>1</td>\n",
       "      <td>0</td>\n",
       "      <td>0</td>\n",
       "      <td>0</td>\n",
       "      <td>0</td>\n",
       "      <td>0</td>\n",
       "      <td>0</td>\n",
       "      <td>0</td>\n",
       "      <td>0</td>\n",
       "      <td>0</td>\n",
       "      <td>0</td>\n",
       "      <td>0</td>\n",
       "      <td>0</td>\n",
       "      <td>0</td>\n",
       "      <td>1</td>\n",
       "    </tr>\n",
       "  </tbody>\n",
       "</table>\n",
       "</div>"
      ],
      "text/plain": [
       "        gpa  mbtype_ENFJ  mbtype_ENFP  mbtype_ENTJ  mbtype_ENTP  mbtype_ESFJ  \\\n",
       "0  3.090201            0            0            1            0            0   \n",
       "1  3.350920            0            0            1            0            0   \n",
       "2  3.275955            0            0            1            0            0   \n",
       "3  3.388890            0            0            1            0            0   \n",
       "4  3.486965            0            0            1            0            0   \n",
       "\n",
       "   mbtype_ESFP  mbtype_ESTJ  mbtype_ESTP  mbtype_INFJ  mbtype_INFP  \\\n",
       "0            0            0            0            0            0   \n",
       "1            0            0            0            0            0   \n",
       "2            0            0            0            0            0   \n",
       "3            0            0            0            0            0   \n",
       "4            0            0            0            0            0   \n",
       "\n",
       "   mbtype_INTJ  mbtype_INTP  mbtype_ISFJ  mbtype_ISFP  mbtype_ISTJ  \\\n",
       "0            0            0            0            0            0   \n",
       "1            0            0            0            0            0   \n",
       "2            0            0            0            0            0   \n",
       "3            0            0            0            0            0   \n",
       "4            0            0            0            0            0   \n",
       "\n",
       "   mbtype_ISTP  high_gpa  \n",
       "0            0         0  \n",
       "1            0         0  \n",
       "2            0         0  \n",
       "3            0         0  \n",
       "4            0         1  "
      ]
     },
     "execution_count": 32,
     "metadata": {},
     "output_type": "execute_result"
    }
   ],
   "source": [
    "new_vars.head()"
   ]
  },
  {
   "cell_type": "code",
   "execution_count": 28,
   "metadata": {
    "collapsed": true
   },
   "outputs": [],
   "source": [
    "new_house = new_df.house_num"
   ]
  },
  {
   "cell_type": "code",
   "execution_count": 29,
   "metadata": {
    "collapsed": false
   },
   "outputs": [],
   "source": [
    "gnb2 = naive_bayes.GaussianNB()"
   ]
  },
  {
   "cell_type": "code",
   "execution_count": 30,
   "metadata": {
    "collapsed": false
   },
   "outputs": [
    {
     "data": {
      "text/plain": [
       "GaussianNB()"
      ]
     },
     "execution_count": 30,
     "metadata": {},
     "output_type": "execute_result"
    }
   ],
   "source": [
    "gnb2.fit(new_vars, new_house)"
   ]
  },
  {
   "cell_type": "code",
   "execution_count": 58,
   "metadata": {
    "collapsed": false
   },
   "outputs": [
    {
     "data": {
      "text/plain": [
       "array([4])"
      ]
     },
     "execution_count": 58,
     "metadata": {},
     "output_type": "execute_result"
    }
   ],
   "source": [
    "gnb2.predict((3.75, 0, 0, 0, 0, 0, 0, 0, 0, 0, 0, 0, 0, 0, 0, 1, 0, 0))"
   ]
  },
  {
   "cell_type": "code",
   "execution_count": 38,
   "metadata": {
    "collapsed": false
   },
   "outputs": [],
   "source": [
    "z = tuple(0 for x in range(0, 18))"
   ]
  },
  {
   "cell_type": "code",
   "execution_count": 39,
   "metadata": {
    "collapsed": false
   },
   "outputs": [
    {
     "name": "stdout",
     "output_type": "stream",
     "text": [
      "(0, 0, 0, 0, 0, 0, 0, 0, 0, 0, 0, 0, 0, 0, 0, 0, 0, 0)\n"
     ]
    }
   ],
   "source": [
    "print(z)"
   ]
  },
  {
   "cell_type": "code",
   "execution_count": 82,
   "metadata": {
    "collapsed": true
   },
   "outputs": [],
   "source": [
    "output_df = pd.read_csv(\"data/20151014211444871504_students_2016.csv\", header=None, names=[\"name\", \"mbtype\", \"year\",\n",
    "                                                                                           \"gpa\"])"
   ]
  },
  {
   "cell_type": "code",
   "execution_count": 83,
   "metadata": {
    "collapsed": false
   },
   "outputs": [],
   "source": [
    "output_df[\"gpa\"] = 3.75"
   ]
  },
  {
   "cell_type": "code",
   "execution_count": 84,
   "metadata": {
    "collapsed": false
   },
   "outputs": [],
   "source": [
    "new_output_df = pd.get_dummies(output_df, columns=[\"mbtype\"])"
   ]
  },
  {
   "cell_type": "code",
   "execution_count": 85,
   "metadata": {
    "collapsed": false
   },
   "outputs": [],
   "source": [
    "new_output_df = new_output_df.drop([\"name\", \"year\"], axis=1)"
   ]
  },
  {
   "cell_type": "code",
   "execution_count": 86,
   "metadata": {
    "collapsed": true
   },
   "outputs": [],
   "source": [
    "new_output_df[\"high_gpa\"] = 0"
   ]
  },
  {
   "cell_type": "code",
   "execution_count": 87,
   "metadata": {
    "collapsed": false
   },
   "outputs": [],
   "source": [
    "new_output_df[\"house\"] = gnb2.predict(new_output_df)"
   ]
  },
  {
   "cell_type": "code",
   "execution_count": 88,
   "metadata": {
    "collapsed": false
   },
   "outputs": [],
   "source": [
    "output_df[\"house\"] = new_output_df[\"house\"]"
   ]
  },
  {
   "cell_type": "code",
   "execution_count": 89,
   "metadata": {
    "collapsed": false
   },
   "outputs": [],
   "source": [
    "output_df.house = output_df.house.map({1: \"Gryffindor\", 2: \"Hufflepuff\", 3: \"Ravenclaw\", 4: \"Slytherin\"})"
   ]
  },
  {
   "cell_type": "code",
   "execution_count": 90,
   "metadata": {
    "collapsed": false
   },
   "outputs": [],
   "source": [
    "output_df = output_df.drop([\"gpa\"], axis=1)"
   ]
  },
  {
   "cell_type": "code",
   "execution_count": 91,
   "metadata": {
    "collapsed": false
   },
   "outputs": [
    {
     "data": {
      "text/html": [
       "<div>\n",
       "<table border=\"1\" class=\"dataframe\">\n",
       "  <thead>\n",
       "    <tr style=\"text-align: right;\">\n",
       "      <th></th>\n",
       "      <th>name</th>\n",
       "      <th>mbtype</th>\n",
       "      <th>year</th>\n",
       "      <th>house</th>\n",
       "    </tr>\n",
       "  </thead>\n",
       "  <tbody>\n",
       "    <tr>\n",
       "      <th>0</th>\n",
       "      <td>Viktor Jigger</td>\n",
       "      <td>ENTJ</td>\n",
       "      <td>6</td>\n",
       "      <td>Ravenclaw</td>\n",
       "    </tr>\n",
       "    <tr>\n",
       "      <th>1</th>\n",
       "      <td>Gregory the Smarmy Goyle</td>\n",
       "      <td>ESTP</td>\n",
       "      <td>2</td>\n",
       "      <td>Gryffindor</td>\n",
       "    </tr>\n",
       "    <tr>\n",
       "      <th>2</th>\n",
       "      <td>Frank Gregorovitch</td>\n",
       "      <td>ISFJ</td>\n",
       "      <td>5</td>\n",
       "      <td>Hufflepuff</td>\n",
       "    </tr>\n",
       "    <tr>\n",
       "      <th>3</th>\n",
       "      <td>Olympe Zabini</td>\n",
       "      <td>ISFP</td>\n",
       "      <td>5</td>\n",
       "      <td>Slytherin</td>\n",
       "    </tr>\n",
       "    <tr>\n",
       "      <th>4</th>\n",
       "      <td>Rolanda Grubbly-Plank</td>\n",
       "      <td>ESFP</td>\n",
       "      <td>2</td>\n",
       "      <td>Ravenclaw</td>\n",
       "    </tr>\n",
       "  </tbody>\n",
       "</table>\n",
       "</div>"
      ],
      "text/plain": [
       "                       name mbtype  year       house\n",
       "0             Viktor Jigger   ENTJ     6   Ravenclaw\n",
       "1  Gregory the Smarmy Goyle   ESTP     2  Gryffindor\n",
       "2        Frank Gregorovitch   ISFJ     5  Hufflepuff\n",
       "3             Olympe Zabini   ISFP     5   Slytherin\n",
       "4     Rolanda Grubbly-Plank   ESFP     2   Ravenclaw"
      ]
     },
     "execution_count": 91,
     "metadata": {},
     "output_type": "execute_result"
    }
   ],
   "source": [
    "output_df.head()"
   ]
  },
  {
   "cell_type": "code",
   "execution_count": 93,
   "metadata": {
    "collapsed": true
   },
   "outputs": [],
   "source": [
    "output_df.to_csv(\"data/20151014211444871504_students_2016_out.csv\", header=None, index=False)"
   ]
  },
  {
   "cell_type": "code",
   "execution_count": 30,
   "metadata": {
    "collapsed": true
   },
   "outputs": [],
   "source": [
    "gnb1 = naive_bayes.GaussianNB()"
   ]
  },
  {
   "cell_type": "code",
   "execution_count": 31,
   "metadata": {
    "collapsed": false
   },
   "outputs": [
    {
     "name": "stderr",
     "output_type": "stream",
     "text": [
      "/Users/abarringer/new_python/.direnv/python-3.5.0/lib/python3.5/site-packages/sklearn/utils/validation.py:449: DataConversionWarning: A column-vector y was passed when a 1d array was expected. Please change the shape of y to (n_samples, ), for example using ravel().\n",
      "  y = column_or_1d(y, warn=True)\n"
     ]
    },
    {
     "data": {
      "text/plain": [
       "GaussianNB()"
      ]
     },
     "execution_count": 31,
     "metadata": {},
     "output_type": "execute_result"
    }
   ],
   "source": [
    "gnb1.fit(new_vars, new_house)"
   ]
  },
  {
   "cell_type": "code",
   "execution_count": 32,
   "metadata": {
    "collapsed": false
   },
   "outputs": [
    {
     "name": "stdout",
     "output_type": "stream",
     "text": [
      "1 [1]\n",
      "2 [2]\n",
      "3 [2]\n",
      "4 [2]\n",
      "5 [2]\n",
      "6 [1]\n",
      "7 [3]\n",
      "8 [3]\n",
      "9 [3]\n",
      "10 [3]\n",
      "11 [3]\n",
      "12 [4]\n",
      "13 [4]\n",
      "14 [4]\n",
      "15 [4]\n",
      "16 [4]\n"
     ]
    }
   ],
   "source": [
    "for x in range(1, 17):\n",
    "    y = gnb1.predict((x, 3.75))\n",
    "    print(x, y)"
   ]
  },
  {
   "cell_type": "code",
   "execution_count": null,
   "metadata": {
    "collapsed": false
   },
   "outputs": [],
   "source": [
    "students_train, students_test = cross_validation.train_test_split(students_df)"
   ]
  },
  {
   "cell_type": "code",
   "execution_count": 7,
   "metadata": {
    "collapsed": false
   },
   "outputs": [],
   "source": [
    "students_vars = students_df[[\"type_num\", \"gpa\"]]\n",
    "students_house = students_df[\"house_num\"]"
   ]
  },
  {
   "cell_type": "code",
   "execution_count": 14,
   "metadata": {
    "collapsed": false
   },
   "outputs": [],
   "source": [
    "gnb = naive_bayes.GaussianNB()"
   ]
  },
  {
   "cell_type": "code",
   "execution_count": 15,
   "metadata": {
    "collapsed": false
   },
   "outputs": [
    {
     "data": {
      "text/plain": [
       "GaussianNB()"
      ]
     },
     "execution_count": 15,
     "metadata": {},
     "output_type": "execute_result"
    }
   ],
   "source": [
    "gnb.fit(students_vars, students_house)"
   ]
  },
  {
   "cell_type": "code",
   "execution_count": null,
   "metadata": {
    "collapsed": false
   },
   "outputs": [],
   "source": []
  },
  {
   "cell_type": "code",
   "execution_count": 15,
   "metadata": {
    "collapsed": false
   },
   "outputs": [],
   "source": [
    "students_table = pd.pivot_table(students_df[[\"house_num\", \"mbtype\", \"gpa\"]], values=\"gpa\", index=\"mbtype\", columns=\"house_num\")"
   ]
  },
  {
   "cell_type": "code",
   "execution_count": 16,
   "metadata": {
    "collapsed": false
   },
   "outputs": [
    {
     "data": {
      "text/html": [
       "<div>\n",
       "<table border=\"1\" class=\"dataframe\">\n",
       "  <thead>\n",
       "    <tr style=\"text-align: right;\">\n",
       "      <th>house_num</th>\n",
       "      <th>1</th>\n",
       "      <th>2</th>\n",
       "      <th>3</th>\n",
       "      <th>4</th>\n",
       "    </tr>\n",
       "    <tr>\n",
       "      <th>mbtype</th>\n",
       "      <th></th>\n",
       "      <th></th>\n",
       "      <th></th>\n",
       "      <th></th>\n",
       "    </tr>\n",
       "  </thead>\n",
       "  <tbody>\n",
       "    <tr>\n",
       "      <th>ENFJ</th>\n",
       "      <td>3.748671</td>\n",
       "      <td>3.252743</td>\n",
       "      <td>3.246905</td>\n",
       "      <td>3.255100</td>\n",
       "    </tr>\n",
       "    <tr>\n",
       "      <th>ENFP</th>\n",
       "      <td>3.246965</td>\n",
       "      <td>3.751963</td>\n",
       "      <td>3.248379</td>\n",
       "      <td>3.249871</td>\n",
       "    </tr>\n",
       "    <tr>\n",
       "      <th>ENTJ</th>\n",
       "      <td>3.247699</td>\n",
       "      <td>3.250739</td>\n",
       "      <td>3.248969</td>\n",
       "      <td>3.248167</td>\n",
       "    </tr>\n",
       "    <tr>\n",
       "      <th>ENTP</th>\n",
       "      <td>3.244946</td>\n",
       "      <td>3.254992</td>\n",
       "      <td>3.246440</td>\n",
       "      <td>3.749520</td>\n",
       "    </tr>\n",
       "    <tr>\n",
       "      <th>ESFJ</th>\n",
       "      <td>3.259338</td>\n",
       "      <td>3.749572</td>\n",
       "      <td>3.247985</td>\n",
       "      <td>3.248019</td>\n",
       "    </tr>\n",
       "    <tr>\n",
       "      <th>ESFP</th>\n",
       "      <td>3.247267</td>\n",
       "      <td>3.252765</td>\n",
       "      <td>3.752301</td>\n",
       "      <td>3.254380</td>\n",
       "    </tr>\n",
       "    <tr>\n",
       "      <th>ESTJ</th>\n",
       "      <td>3.252418</td>\n",
       "      <td>3.244624</td>\n",
       "      <td>3.250126</td>\n",
       "      <td>3.249841</td>\n",
       "    </tr>\n",
       "    <tr>\n",
       "      <th>ESTP</th>\n",
       "      <td>3.747594</td>\n",
       "      <td>3.246386</td>\n",
       "      <td>3.246036</td>\n",
       "      <td>3.252259</td>\n",
       "    </tr>\n",
       "    <tr>\n",
       "      <th>INFJ</th>\n",
       "      <td>3.249101</td>\n",
       "      <td>3.250782</td>\n",
       "      <td>3.249236</td>\n",
       "      <td>3.249251</td>\n",
       "    </tr>\n",
       "    <tr>\n",
       "      <th>INFP</th>\n",
       "      <td>3.249547</td>\n",
       "      <td>3.254138</td>\n",
       "      <td>3.250125</td>\n",
       "      <td>3.242844</td>\n",
       "    </tr>\n",
       "    <tr>\n",
       "      <th>INTJ</th>\n",
       "      <td>3.251733</td>\n",
       "      <td>3.253691</td>\n",
       "      <td>3.753188</td>\n",
       "      <td>3.247573</td>\n",
       "    </tr>\n",
       "    <tr>\n",
       "      <th>INTP</th>\n",
       "      <td>3.248813</td>\n",
       "      <td>3.251467</td>\n",
       "      <td>3.248782</td>\n",
       "      <td>3.246054</td>\n",
       "    </tr>\n",
       "    <tr>\n",
       "      <th>ISFJ</th>\n",
       "      <td>3.246891</td>\n",
       "      <td>3.249866</td>\n",
       "      <td>3.252372</td>\n",
       "      <td>3.248478</td>\n",
       "    </tr>\n",
       "    <tr>\n",
       "      <th>ISFP</th>\n",
       "      <td>3.251817</td>\n",
       "      <td>3.251843</td>\n",
       "      <td>3.246940</td>\n",
       "      <td>3.247375</td>\n",
       "    </tr>\n",
       "    <tr>\n",
       "      <th>ISTJ</th>\n",
       "      <td>3.249296</td>\n",
       "      <td>3.251282</td>\n",
       "      <td>3.248506</td>\n",
       "      <td>3.751716</td>\n",
       "    </tr>\n",
       "    <tr>\n",
       "      <th>ISTP</th>\n",
       "      <td>3.249665</td>\n",
       "      <td>3.253339</td>\n",
       "      <td>3.251954</td>\n",
       "      <td>3.253998</td>\n",
       "    </tr>\n",
       "  </tbody>\n",
       "</table>\n",
       "</div>"
      ],
      "text/plain": [
       "house_num         1         2         3         4\n",
       "mbtype                                           \n",
       "ENFJ       3.748671  3.252743  3.246905  3.255100\n",
       "ENFP       3.246965  3.751963  3.248379  3.249871\n",
       "ENTJ       3.247699  3.250739  3.248969  3.248167\n",
       "ENTP       3.244946  3.254992  3.246440  3.749520\n",
       "ESFJ       3.259338  3.749572  3.247985  3.248019\n",
       "ESFP       3.247267  3.252765  3.752301  3.254380\n",
       "ESTJ       3.252418  3.244624  3.250126  3.249841\n",
       "ESTP       3.747594  3.246386  3.246036  3.252259\n",
       "INFJ       3.249101  3.250782  3.249236  3.249251\n",
       "INFP       3.249547  3.254138  3.250125  3.242844\n",
       "INTJ       3.251733  3.253691  3.753188  3.247573\n",
       "INTP       3.248813  3.251467  3.248782  3.246054\n",
       "ISFJ       3.246891  3.249866  3.252372  3.248478\n",
       "ISFP       3.251817  3.251843  3.246940  3.247375\n",
       "ISTJ       3.249296  3.251282  3.248506  3.751716\n",
       "ISTP       3.249665  3.253339  3.251954  3.253998"
      ]
     },
     "execution_count": 16,
     "metadata": {},
     "output_type": "execute_result"
    }
   ],
   "source": [
    "students_table"
   ]
  },
  {
   "cell_type": "code",
   "execution_count": null,
   "metadata": {
    "collapsed": true
   },
   "outputs": [],
   "source": []
  }
 ],
 "metadata": {
  "kernelspec": {
   "display_name": "Python 3",
   "language": "python",
   "name": "python3"
  },
  "language_info": {
   "codemirror_mode": {
    "name": "ipython",
    "version": 3
   },
   "file_extension": ".py",
   "mimetype": "text/x-python",
   "name": "python",
   "nbconvert_exporter": "python",
   "pygments_lexer": "ipython3",
   "version": "3.5.0"
  }
 },
 "nbformat": 4,
 "nbformat_minor": 0
}
